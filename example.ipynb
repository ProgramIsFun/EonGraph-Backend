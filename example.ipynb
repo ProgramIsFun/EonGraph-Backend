{
 "cells": [
  {
   "cell_type": "code",
   "execution_count": null,
   "id": "ea3837b4abf77c44",
   "metadata": {
    "ExecuteTime": {
     "end_time": "2024-12-22T10:25:42.127820Z",
     "start_time": "2024-12-22T10:25:42.124422Z"
    }
   },
   "outputs": [],
   "source": [
    "p=print\n",
    "import uuid"
   ]
  },
  {
   "cell_type": "code",
   "execution_count": 3,
   "id": "a1e4d303",
   "metadata": {},
   "outputs": [],
   "source": [
    "from utillll import session"
   ]
  },
  {
   "cell_type": "markdown",
   "id": "53778abca9e43554",
   "metadata": {},
   "source": [
    "## Basic information."
   ]
  },
  {
   "cell_type": "markdown",
   "id": "536899f3",
   "metadata": {},
   "source": [
    "#### get_specific_node_with_specific_id"
   ]
  },
  {
   "cell_type": "code",
   "execution_count": null,
   "id": "97c0ec17688dbd33",
   "metadata": {
    "ExecuteTime": {
     "end_time": "2024-12-21T07:36:01.571226Z",
     "start_time": "2024-12-21T07:36:01.489228Z"
    }
   },
   "outputs": [],
   "source": [
    "\n",
    "def get_record_with_specific_id(tx, id):\n",
    "    p(\"get_record_with_specific_id called with id:\", id)\n",
    "    query = f'''\n",
    "\n",
    "    MATCH (n)\n",
    "        WHERE n.user_generate_id_7577777777 = \"{id}\"\n",
    "        RETURN n\n",
    "    '''\n",
    "    result = tx.run(query)\n",
    "    return list(result)\n",
    "\n",
    "# k=session.execute_read(get_record_with_specific_id, id=\"9b6097ab-f834-4789-a542-ced4f9478cc5\")"
   ]
  },
  {
   "cell_type": "code",
   "execution_count": null,
   "id": "dde134abc8af85a7",
   "metadata": {
    "ExecuteTime": {
     "end_time": "2024-12-21T07:36:09.784898Z",
     "start_time": "2024-12-21T07:36:09.779896Z"
    }
   },
   "outputs": [
    {
     "data": {
      "text/plain": [
       "[{'properties': {'user_generate_id_7577777777': '9b6097ab-f834-4789-a542-ced4f9478cc5',\n",
       "   'name': 'projectssss'},\n",
       "  'labels': ['normalNode588888888']}]"
      ]
     },
     "execution_count": 27,
     "metadata": {},
     "output_type": "execute_result"
    }
   ],
   "source": [
    "def get_specific_node_with_specific_id(id):\n",
    "    p(\"get_specific_node_with_specific_id called with id:\", id)\n",
    "    k=session.execute_read(get_record_with_specific_id, id=id)\n",
    "    nodes = []\n",
    "    for record in k:\n",
    "        node = record['n']\n",
    "        node_dict = dict(node)  # properties as dict\n",
    "        label_list = list(node.labels)  # labels as list\n",
    "        # Gather everything into one dict\n",
    "        nodes.append({\n",
    "            \"properties\": node_dict,\n",
    "            \"labels\": label_list\n",
    "        })\n",
    "    return nodes\n",
    "# get_specific_node_with_specific_id(\"9b6097ab-f834-4789-a542-ced4f9478cc5\")"
   ]
  },
  {
   "cell_type": "markdown",
   "id": "80caae54",
   "metadata": {},
   "source": [
    "#### get_nodewith_specific_property"
   ]
  },
  {
   "cell_type": "code",
   "execution_count": null,
   "id": "468d319a0049e330",
   "metadata": {
    "ExecuteTime": {
     "end_time": "2024-12-21T07:36:19.610574Z",
     "start_time": "2024-12-21T07:36:19.525575Z"
    }
   },
   "outputs": [],
   "source": [
    "def get_nodewith_specific_property(tx, property):\n",
    "    p(\"get_nodewith_specific_property called with property:\", property)\n",
    "    query = f'''\n",
    "\n",
    "    MATCH (n)\n",
    "        WHERE n.`{property}` IS NOT NULL\n",
    "        RETURN n\n",
    "    '''\n",
    "    result = tx.run(query)\n",
    "    return list(result)\n",
    "# k=session.execute_read(get_nodewith_specific_property, property=\"ue_location_X\")"
   ]
  },
  {
   "cell_type": "code",
   "execution_count": 29,
   "id": "82820a8924cdc3d4",
   "metadata": {
    "ExecuteTime": {
     "end_time": "2024-12-21T07:36:26.574254Z",
     "start_time": "2024-12-21T07:36:26.569255Z"
    }
   },
   "outputs": [],
   "source": [
    "# len(k)"
   ]
  },
  {
   "cell_type": "markdown",
   "id": "d1bc89f1",
   "metadata": {},
   "source": [
    "#### print_number_of_node_and_number_of_connections"
   ]
  },
  {
   "cell_type": "code",
   "execution_count": null,
   "id": "1ac92a5c3accdbe9",
   "metadata": {
    "ExecuteTime": {
     "end_time": "2024-12-22T10:43:38.774519Z",
     "start_time": "2024-12-22T10:43:38.745508Z"
    }
   },
   "outputs": [],
   "source": [
    "def print_number_of_node_and_number_of_connections(session):\n",
    "    p(\"print_number_of_node_and_number_of_connections called\")\n",
    "    # Get total number of node in the database.\n",
    "    def get_number_of_nodes():\n",
    "        result = session.run(\"MATCH (n) RETURN count(n) as total\")\n",
    "        for record in result:\n",
    "            print(record[\"total\"])\n",
    "    get_number_of_nodes()\n",
    "\n",
    "\n",
    "    # Get number of connections.\n",
    "    def get_number_of_connections():\n",
    "        result = session.run(\"MATCH ()-->() RETURN count(*) as total\")\n",
    "        for record in result:\n",
    "            print(record[\"total\"])\n",
    "    get_number_of_connections()"
   ]
  },
  {
   "cell_type": "code",
   "execution_count": 31,
   "id": "9d9c867a",
   "metadata": {},
   "outputs": [],
   "source": [
    "\n",
    "# print_number_of_node_and_number_of_connections(session)"
   ]
  },
  {
   "cell_type": "markdown",
   "id": "cdcacecf",
   "metadata": {},
   "source": [
    "#### get_every_node"
   ]
  },
  {
   "cell_type": "code",
   "execution_count": null,
   "id": "c81d70689d84ff41",
   "metadata": {
    "ExecuteTime": {
     "end_time": "2024-12-22T10:34:15.042550Z",
     "start_time": "2024-12-22T10:34:14.952194Z"
    }
   },
   "outputs": [],
   "source": [
    "def get_every_node(tx):\n",
    "    p(\"get_every_node called\")\n",
    "    return list(tx.run(\n",
    "        '''\n",
    "        MATCH (n) RETURN n\n",
    "\n",
    "        '''\n",
    "    ))\n",
    "# result = session.execute_read(get_every_node)\n",
    "# ppp=result[0]\n",
    "# ppp2=ppp[\"n\"]\n",
    "# type(ppp2)\n",
    "# ppp2.keys()\n",
    "# dict(ppp2)"
   ]
  },
  {
   "cell_type": "code",
   "execution_count": null,
   "id": "446fba01a3badb19",
   "metadata": {
    "ExecuteTime": {
     "end_time": "2024-12-16T11:56:31.364449Z",
     "start_time": "2024-12-16T11:56:31.360051Z"
    }
   },
   "outputs": [
    {
     "data": {
      "text/plain": [
       "<Node element_id='4:b2f3fb18-14bf-40fa-aa71-612bac4dc40e:0' labels=frozenset({'githubRepo76666666666666'}) properties={'repoid': 776567113, 'id77777777': 'c03fd423-53c7-4f58-a6bf-16eb494cedd3', 'name': 'everythingallaccount/migrates-to-Electron'}>"
      ]
     },
     "execution_count": 66,
     "metadata": {},
     "output_type": "execute_result"
    }
   ],
   "source": [
    "# ppp2"
   ]
  },
  {
   "cell_type": "code",
   "execution_count": null,
   "id": "19558d94a8623d47",
   "metadata": {
    "ExecuteTime": {
     "end_time": "2024-12-16T11:56:14.125459Z",
     "start_time": "2024-12-16T11:56:14.120658Z"
    }
   },
   "outputs": [
    {
     "data": {
      "text/plain": [
       "'4:b2f3fb18-14bf-40fa-aa71-612bac4dc40e:0'"
      ]
     },
     "execution_count": 65,
     "metadata": {},
     "output_type": "execute_result"
    }
   ],
   "source": [
    "# ppp2.element_id"
   ]
  },
  {
   "cell_type": "code",
   "execution_count": null,
   "id": "89f0c67a1367f632",
   "metadata": {
    "ExecuteTime": {
     "end_time": "2024-12-20T09:16:24.562299Z",
     "start_time": "2024-12-20T09:16:24.559299Z"
    }
   },
   "outputs": [],
   "source": []
  },
  {
   "cell_type": "markdown",
   "id": "627a23a75ca981f7",
   "metadata": {},
   "source": [
    "#### get_all_node_and_their_connections13"
   ]
  },
  {
   "cell_type": "code",
   "execution_count": null,
   "id": "b6e88879420087",
   "metadata": {
    "ExecuteTime": {
     "end_time": "2024-12-24T13:42:53.785386Z",
     "start_time": "2024-12-24T13:42:53.779387Z"
    }
   },
   "outputs": [],
   "source": [
    "def get_all_node_and_their_connections13(session):\n",
    "    p(\"get_all_node_and_their_connections13 called\")\n",
    "    def get_all_node_and_their_connections(session):\n",
    "        result = session.run(\"MATCH (n)-[r]->(m) RETURN n, r, m\")\n",
    "        return list(result)\n",
    "\n",
    "    k= session.execute_read(get_all_node_and_their_connections)\n",
    "    len(k)\n",
    "    k2=k[0]\n",
    "    k2.keys()\n",
    "    nodes=[]\n",
    "    nodesid={}\n",
    "    links=[]\n",
    "    for i in k:\n",
    "        n=i[\"n\"]\n",
    "        m=i[\"m\"]\n",
    "\n",
    "        NID=dict(n)[\"user_generate_id_7577777777\"]\n",
    "        Ninternal_id=n.element_id\n",
    "        MID=dict(m)[\"user_generate_id_7577777777\"]\n",
    "        Minternal_id=m.element_id\n",
    "        if NID not in nodesid:\n",
    "            nodesid[NID]=1\n",
    "            kkkk=dict(n)\n",
    "            # kkkk[\"element_id\"]=n.element_id\n",
    "            nodes.append(kkkk)\n",
    "        if MID not in nodesid:\n",
    "            nodesid[MID]=1\n",
    "            kkkk=dict(m)\n",
    "            # kkkk[\"element_id\"]=m.element_id\n",
    "            nodes.append(kkkk)\n",
    "\n",
    "        links.append({\"source\":\n",
    "\n",
    "                          NID,\n",
    "                      \"target\":\n",
    "                            MID,\n",
    "                      }\n",
    "                        )\n",
    "\n",
    "\n",
    "    p(len(nodes))\n",
    "    p(len(links))\n",
    "\n",
    "    def get_all_node_and_their_connections2(session):\n",
    "        result = session.run('''\n",
    "        MATCH (n)\n",
    "    WHERE NOT EXISTS ((n)--())\n",
    "    RETURN n\n",
    "\n",
    "\n",
    "        ''')\n",
    "        return list(result)\n",
    "\n",
    "    k=session.execute_read(get_all_node_and_their_connections2)\n",
    "    for i in k:\n",
    "        n=i[\"n\"]\n",
    "        NID=dict(n)[\"user_generate_id_7577777777\"]\n",
    "\n",
    "        if NID not in nodesid:\n",
    "            nodesid[NID]=1\n",
    "            kkkk=dict(n)\n",
    "            # kkkk[\"element_id\"]=n.element_id\n",
    "            nodes.append(kkkk)\n",
    "\n",
    "    oooo={\"nodes\":nodes, \"links\":links}\n",
    "    len(nodes)\n",
    "    return oooo\n"
   ]
  },
  {
   "cell_type": "code",
   "execution_count": 34,
   "id": "58f93ecdb4dc4998",
   "metadata": {
    "ExecuteTime": {
     "end_time": "2024-12-24T13:42:55.027173Z",
     "start_time": "2024-12-24T13:42:54.880673Z"
    }
   },
   "outputs": [],
   "source": [
    "# get_all_node_and_their_connections13(session)"
   ]
  },
  {
   "cell_type": "code",
   "execution_count": null,
   "id": "db4332743eb41c4",
   "metadata": {},
   "outputs": [],
   "source": [
    "\n",
    "# Get all connections\n",
    "def get_all_connections():\n",
    "    p(\"get_all_connections called\")\n",
    "    result = session.run(\"\"\n",
    "                         \"MATCH ()-[r]->() RETURN r\"\n",
    "                         \"\"\n",
    "                         \"\"\n",
    "                         \"\"\n",
    "                         \"\")\n",
    "    return list(result)\n",
    "# r=get_all_connections()\n",
    "# r1=r[0]\n",
    "# r2=r1[\"r\"]\n",
    "# r2.nodes"
   ]
  },
  {
   "cell_type": "markdown",
   "id": "3c5af6fd",
   "metadata": {},
   "source": [
    "#### _get_constraints"
   ]
  },
  {
   "cell_type": "code",
   "execution_count": 38,
   "id": "00a1829e",
   "metadata": {},
   "outputs": [],
   "source": [
    "def _get_constraints(tx):\n",
    "        p(\"_get_constraints called\")\n",
    "        query = \"SHOW CONSTRAINTS\"\n",
    "        result = tx.run(query)\n",
    "        return [record for record in result]\n",
    "# k=session.execute_read(_get_constraints)"
   ]
  },
  {
   "cell_type": "markdown",
   "id": "15bf7de24de23536",
   "metadata": {},
   "source": [
    "## Editing things."
   ]
  },
  {
   "cell_type": "markdown",
   "id": "5abb72ee",
   "metadata": {},
   "source": [
    "#### update_position_of_all_node_772"
   ]
  },
  {
   "cell_type": "code",
   "execution_count": null,
   "id": "db838ec4dd011751",
   "metadata": {
    "ExecuteTime": {
     "end_time": "2024-12-21T04:29:32.792332Z",
     "start_time": "2024-12-21T04:29:32.787830Z"
    }
   },
   "outputs": [],
   "source": [
    "def update_position_of_all_node_772(session,d):\n",
    "\n",
    "    p(\"update_position_of_all_node_772 called with data:\", d)\n",
    "\n",
    "    output_data = []\n",
    "\n",
    "    for item in d:\n",
    "        # Add a new dictionary to output_data with the flattened structure.\n",
    "        output_data.append({\n",
    "            \"ID\": item[\"ID\"],\n",
    "            \"X\": item[\"unreal_engine_location_728\"][\"X\"],\n",
    "            \"Y\": item[\"unreal_engine_location_728\"][\"Y\"],\n",
    "            \"Z\": item[\"unreal_engine_location_728\"][\"Z\"]\n",
    "        })\n",
    "\n",
    "\n",
    "    def update_nodes(tx, data):\n",
    "        query = \"\"\"\n",
    "\n",
    "        UNWIND $data AS item\n",
    "        MATCH (n {user_generate_id_7577777777: item.ID})\n",
    "        SET n.ue_location_X = item.X,\n",
    "            n.ue_location_Y = item.Y,\n",
    "            n.ue_location_Z = item.Z\n",
    "        RETURN n.ID, n.ue_location_X, n.ue_location_Y, n.ue_location_Z\n",
    "\n",
    "        \"\"\"\n",
    "        result = tx.run(query, data=data)\n",
    "        return list(result)\n",
    "\n",
    "\n",
    "    updated_nodes = session.execute_write(update_nodes, output_data)\n",
    "    return updated_nodes\n",
    "    \n",
    "# d=[\n",
    "#       {\n",
    "#         \"ID\": \"9b6097ab-f834-4789-a542-ced4f9478cc5\",\n",
    "#         \"unreal_engine_location_728\": {\n",
    "#           \"X\": -1056.2984697348495,\n",
    "#           \"Y\": -188.69419245425595,\n",
    "#           \"Z\": 535.1348803507144\n",
    "#         }\n",
    "#       }\n",
    "#     ]\n",
    "# a=update_position_of_all_node_772(session,d)"
   ]
  },
  {
   "cell_type": "markdown",
   "id": "58d2db5e3b5f952c",
   "metadata": {},
   "source": [
    "## Creating things."
   ]
  },
  {
   "cell_type": "code",
   "execution_count": null,
   "id": "41a41651",
   "metadata": {},
   "outputs": [],
   "source": [
    "\n",
    "def _create_constraint(tx, label, property):\n",
    "    p(\"_create_constraint called with label:\", label, \"and property:\", property)\n",
    "    query = f\"CREATE CONSTRAINT FOR  (n:{label}) REQUIRE  n.{property} IS UNIQUE\"\n",
    "    tx.run(query)\n",
    "# session.execute_write(_create_constraint, \"normalNode588888888\", \"user_generate_id_7577777777\")\n",
    "\n"
   ]
  },
  {
   "cell_type": "code",
   "execution_count": null,
   "id": "74b2eb2104711aef",
   "metadata": {
    "ExecuteTime": {
     "end_time": "2024-12-22T11:03:33.973605Z",
     "start_time": "2024-12-22T11:03:33.970370Z"
    }
   },
   "outputs": [],
   "source": [
    "def create_node_tx(tx, name, id8):\n",
    "    p(\"create_node_tx called with name:\", name, \"and id8:\", id8)\n",
    "    query = (\"CREATE (n:normalNode588888888 {\"\n",
    "             \"name: $name, \"\n",
    "             \"user_generate_id_7577777777:$id8 }) \"\n",
    "             \"RETURN n.user_generate_id_7577777777 AS node_id\")\n",
    "    result = tx.run(query, name=name, id8=id8)\n",
    "    record = result.single()\n",
    "    return record[\"node_id\"]"
   ]
  },
  {
   "cell_type": "markdown",
   "id": "0f3b4e0d",
   "metadata": {},
   "source": [
    "#### create_note_with_generate_id"
   ]
  },
  {
   "cell_type": "code",
   "execution_count": null,
   "id": "e786e113cada3703",
   "metadata": {
    "ExecuteTime": {
     "end_time": "2024-12-24T13:27:31.295767Z",
     "start_time": "2024-12-24T13:27:31.291265Z"
    }
   },
   "outputs": [],
   "source": [
    "def create_note_with_generate_id(session, name):\n",
    "    p(\"create_note_with_generate_id called with name:\", name)\n",
    "    node_id = session.execute_write(create_node_tx, name, str(uuid.uuid4()))\n",
    "    return node_id"
   ]
  },
  {
   "cell_type": "code",
   "execution_count": null,
   "id": "279c9883",
   "metadata": {},
   "outputs": [],
   "source": [
    "def create_node_tx_with_position(tx, name, id8, x, y, z):\n",
    "    p(\"create_node_tx_with_position called with name:\", name, \"id8:\", id8, \"x:\", x, \"y:\", y, \"z:\", z)\n",
    "    query = (\"CREATE (n:normalNode588888888 {\"\n",
    "             \"name: $name, \"\n",
    "             \"user_generate_id_7577777777: $id8, \"\n",
    "             \"ue_location_X: $x, \"\n",
    "             \"ue_location_Y: $y, \"\n",
    "             \"ue_location_Z: $z}) \"\n",
    "             \"RETURN n.user_generate_id_7577777777 AS node_id\")\n",
    "    result = tx.run(query, name=name, id8=id8, x=x, y=y, z=z)\n",
    "    record = result.single()\n",
    "    return record[\"node_id\"]"
   ]
  },
  {
   "cell_type": "markdown",
   "id": "64cf2137",
   "metadata": {},
   "source": [
    "#### create_note_with_provided_position_with_generate_id"
   ]
  },
  {
   "cell_type": "code",
   "execution_count": null,
   "id": "d47ff2fc",
   "metadata": {},
   "outputs": [],
   "source": [
    "def create_note_with_generate_id_and_position(session, name, x, y, z):\n",
    "    p(\"create_note_with_generate_id_and_position called with name:\", name, \"x:\", x, \"y:\", y, \"z:\", z)\n",
    "    node_id = session.execute_write(create_node_tx_with_position, name, str(uuid.uuid4()), x, y, z)\n",
    "    return node_id"
   ]
  },
  {
   "cell_type": "code",
   "execution_count": null,
   "id": "d0da748c5cf8aeb4",
   "metadata": {
    "ExecuteTime": {
     "end_time": "2024-12-24T05:03:56.497284Z",
     "start_time": "2024-12-24T05:03:56.362713Z"
    }
   },
   "outputs": [],
   "source": [
    "already_exists_id=\"9b6097ab-f834-4789-a542-ced4f9478cc5\"\n",
    "def testing_constraint(session):\n",
    "    p(\"testing_constraint called\")\n",
    "    node_id = session.execute_write(create_node_tx, \"1\", already_exists_id)\n",
    "    return node_id\n",
    "# k=testing_constraint(session)\n"
   ]
  },
  {
   "cell_type": "code",
   "execution_count": null,
   "id": "2a3c37fa5131f032",
   "metadata": {
    "ExecuteTime": {
     "end_time": "2024-12-24T13:27:57.410780Z",
     "start_time": "2024-12-24T13:27:57.407781Z"
    }
   },
   "outputs": [],
   "source": [
    "# testing_name_777=\"to_be_deleted\"\n"
   ]
  },
  {
   "cell_type": "code",
   "execution_count": null,
   "id": "38eb98bfc1fed56c",
   "metadata": {
    "ExecuteTime": {
     "end_time": "2024-12-24T13:28:01.499837Z",
     "start_time": "2024-12-24T13:28:01.324412Z"
    }
   },
   "outputs": [],
   "source": [
    "# node_id = create_note_with_generate_id(session, testing_name_777)\n",
    "# "
   ]
  },
  {
   "cell_type": "code",
   "execution_count": null,
   "id": "f9c264e4446d39e3",
   "metadata": {
    "ExecuteTime": {
     "end_time": "2024-12-24T10:55:24.784635Z",
     "start_time": "2024-12-24T10:55:24.779636Z"
    }
   },
   "outputs": [
    {
     "data": {
      "text/plain": [
       "'bf4209a5-8723-4476-a0ae-a9a99fed1c8e'"
      ]
     },
     "execution_count": 65,
     "metadata": {},
     "output_type": "execute_result"
    }
   ],
   "source": [
    "# testing_id_777"
   ]
  },
  {
   "cell_type": "code",
   "execution_count": null,
   "id": "4e70274e578e0cd0",
   "metadata": {
    "ExecuteTime": {
     "end_time": "2024-12-24T13:28:03.509913Z",
     "start_time": "2024-12-24T13:28:03.504913Z"
    }
   },
   "outputs": [
    {
     "data": {
      "text/plain": [
       "'75ffeb58-ee1a-4df1-961e-a4b8a5bb7567'"
      ]
     },
     "execution_count": 72,
     "metadata": {},
     "output_type": "execute_result"
    }
   ],
   "source": [
    "# node_id"
   ]
  },
  {
   "cell_type": "code",
   "execution_count": null,
   "id": "3bfdac6047aaec87",
   "metadata": {
    "ExecuteTime": {
     "end_time": "2024-12-24T13:28:11.941313Z",
     "start_time": "2024-12-24T13:28:11.903315Z"
    }
   },
   "outputs": [
    {
     "data": {
      "text/plain": [
       "1"
      ]
     },
     "execution_count": 75,
     "metadata": {},
     "output_type": "execute_result"
    }
   ],
   "source": [
    "# delete_note_with_specific_id(session, node_id)"
   ]
  },
  {
   "cell_type": "code",
   "execution_count": 29,
   "id": "eaf7fb952170837a",
   "metadata": {
    "ExecuteTime": {
     "end_time": "2024-12-22T10:40:53.506463Z",
     "start_time": "2024-12-22T10:40:53.503297Z"
    }
   },
   "outputs": [],
   "source": []
  },
  {
   "cell_type": "code",
   "execution_count": null,
   "id": "6a5d85f2ef948664",
   "metadata": {
    "ExecuteTime": {
     "end_time": "2024-12-14T10:32:22.905588Z",
     "start_time": "2024-12-14T10:32:22.900607Z"
    }
   },
   "outputs": [],
   "source": [
    "\n",
    "def create_example_integrates(tx, name):\n",
    "    p(\"create_example_integrates called with name:\", name)\n",
    "    def a1():\n",
    "\n",
    "        # https://neo4j.com/docs/api/python-driver/current/api.html#neo4j.Session.execute_write\n",
    "        def create_node_tx(tx, name):\n",
    "            query = (\"CREATE (n:NodeExample {\"\n",
    "                     \"name: $name, \"\n",
    "                     \"id: randomUUID()}) \"\n",
    "                     \"RETURN n.id AS node_id\")\n",
    "            result = tx.run(query, name=name)\n",
    "            record = result.single()\n",
    "            return record[\"node_id\"]\n",
    "        node_id = session.execute_write(create_node_tx, \"Bob\")\n",
    "\n",
    "\n",
    "    def a2():\n",
    "        # https://neo4j.com/docs/api/python-driver/current/api.html#auto-commit-transactions\n",
    "        def create_person(driver, name):\n",
    "            # default_access_mode defaults to WRITE_ACCESS\n",
    "            with driver.session(database=\"neo4j\") as session:\n",
    "                query = (\"CREATE (n:NodeExample {name: $name, id: randomUUID()}) \"\n",
    "                         \"RETURN n.id AS node_id\")\n",
    "                result = session.run(query, name=name)\n",
    "                record = result.single()\n",
    "                return record[\"node_id\"]\n",
    "\n",
    "    def a3():\n",
    "        def create_and_return_node(tx, node):\n",
    "            query = (\n",
    "                \"CREATE (n:Character \"\n",
    "                \"{\"\n",
    "                \"id: $id, \"\n",
    "                \"group: $group, \"\n",
    "                \"indexColor: $indexColor, \"\n",
    "                \"bckgDimensions: $bckgDimensions, \"\n",
    "                \"index: $index\"\n",
    "                \"}\"\n",
    "                \")\"\n",
    "                \"RETURN n\"\n",
    "            )\n",
    "            result = tx.run(query,\n",
    "                            id=node[\"id\"],\n",
    "                            group=node[\"group\"],\n",
    "                            indexColor=node[\"__indexColor\"],\n",
    "                            bckgDimensions=node[\"__bckgDimensions\"],\n",
    "                            index=node[\"index\"])\n",
    "            return result.single()[0]  # Return the created node\n",
    "\n",
    "\n",
    "        node = {\n",
    "            \"id\": \"Cosette\",\n",
    "            \"group\": 5,\n",
    "            \"__indexColor\": \"#5003bc\",\n",
    "            \"__bckgDimensions\": [73.80274419464577, 24.2995279120152],\n",
    "            \"index\": 26\n",
    "        }\n",
    "\n",
    "        node_id = session.execute_write(create_and_return_node, node)\n",
    "\n",
    "    def a4():\n",
    "        employee_threshold = 10\n",
    "\n",
    "\n",
    "        def example():\n",
    "            for i in range(100):\n",
    "                name = f\"Thor{i}\"\n",
    "                org_id = session.execute_write(employ_person_tx, name)\n",
    "                print(f\"User {name} added to organization {org_id}\")\n",
    "\n",
    "\n",
    "        def employ_person_tx(tx, name):\n",
    "            # Create new Person node with given name, if not exists already\n",
    "            result = tx.run(\"\"\"\n",
    "                MERGE (p:Person {name: $name})\n",
    "                RETURN p.name AS name\n",
    "                \"\"\", name=name\n",
    "                            )\n",
    "\n",
    "            # Obtain most recent organization ID and the number of people linked to it\n",
    "            result = tx.run(\"\"\"\n",
    "                MATCH (o:Organization)\n",
    "                RETURN o.id AS id, COUNT{(p:Person)-[r:WORKS_FOR]->(o)} AS employees_n\n",
    "                ORDER BY o.created_date DESC\n",
    "                LIMIT 1\n",
    "            \"\"\")\n",
    "            org = result.single()\n",
    "\n",
    "            if org is not None and org[\"employees_n\"] == 0:\n",
    "                print(\"Most recent organization is empty.\")\n",
    "\n",
    "                raise Exception(\"Most recent organization is empty.\")\n",
    "                # Transaction will roll back -> not even Person is created!\n",
    "            # If org does not have too many employees, add this Person to that\n",
    "            if org is not None and org.get(\"employees_n\") < employee_threshold:\n",
    "                result = tx.run(\"\"\"\n",
    "                    MATCH (o:Organization {id: $org_id})\n",
    "                    MATCH (p:Person {name: $name})\n",
    "                    MERGE (p)-[r:WORKS_FOR]->(o)\n",
    "                    RETURN $org_id AS id\n",
    "                    \"\"\", org_id=org[\"id\"], name=name\n",
    "                                )\n",
    "                print(f\"Added {name} to existing organization {org['id']}\")\n",
    "\n",
    "            # Otherwise, create a new Organization and link Person to it\n",
    "            else:\n",
    "                result = tx.run(\"\"\"\n",
    "                    MATCH (p:Person {name: $name})\n",
    "                    CREATE (o:Organization {id: randomuuid(), created_date: datetime()})\n",
    "                    MERGE (p)-[r:WORKS_FOR]->(o)\n",
    "                    RETURN o.id AS id\n",
    "                    \"\"\", name=name\n",
    "                                )\n",
    "                print(f\"Created new organization and added {name} to it\")\n",
    "\n",
    "            # Return the Organization ID to which the new Person ends up in\n",
    "            return result.single()[\"id\"]\n",
    "\n",
    "\n"
   ]
  },
  {
   "cell_type": "markdown",
   "id": "cdb756c34623c3a0",
   "metadata": {},
   "source": [
    "## Removing things"
   ]
  },
  {
   "cell_type": "markdown",
   "id": "be99d884",
   "metadata": {},
   "source": [
    "#### remove_all"
   ]
  },
  {
   "cell_type": "code",
   "execution_count": null,
   "id": "87ce56682cbd2bf6",
   "metadata": {
    "ExecuteTime": {
     "end_time": "2024-12-20T09:12:02.477751Z",
     "start_time": "2024-12-20T09:12:02.202075Z"
    }
   },
   "outputs": [],
   "source": [
    "\n",
    "def remove_all():\n",
    "    p(\"remove_all called\")\n",
    "    session.run(\"MATCH (n) DETACH DELETE n\")\n",
    "\n",
    "# remove_all()\n"
   ]
  },
  {
   "cell_type": "markdown",
   "id": "987467e5",
   "metadata": {},
   "source": [
    "#### delete_note_with_specific_id\n"
   ]
  },
  {
   "cell_type": "code",
   "execution_count": null,
   "id": "cbc0d992b9f5320e",
   "metadata": {
    "ExecuteTime": {
     "end_time": "2024-12-24T10:56:32.572327Z",
     "start_time": "2024-12-24T10:56:32.568357Z"
    }
   },
   "outputs": [],
   "source": [
    "def delete_note_with_specific_id(tx, id):\n",
    "    p(\"delete_note_with_specific_id called with id:\", id)\n",
    "    # Query that matches any node with the specific ID, deletes it, and counts the deleted nodes.\n",
    "    query = f'''\n",
    "    MATCH (n)\n",
    "    WHERE n.user_generate_id_7577777777 = \"{id}\"\n",
    "    DETACH DELETE n\n",
    "    RETURN count(n) as deletedCount\n",
    "    '''\n",
    "    result = tx.run(query)\n",
    "    return result.single()[0]  # returns the count of deleted nodes"
   ]
  },
  {
   "cell_type": "markdown",
   "id": "32a88892",
   "metadata": {},
   "source": [
    "#### delete_note_with_specific_idand_label"
   ]
  },
  {
   "cell_type": "code",
   "execution_count": null,
   "id": "4447220bc30a0280",
   "metadata": {
    "ExecuteTime": {
     "end_time": "2024-12-22T10:42:37.027278Z",
     "start_time": "2024-12-22T10:42:37.023588Z"
    }
   },
   "outputs": [],
   "source": [
    "\n",
    "def delete_note_with_specific_idand_label(tx, label, id):\n",
    "    p(\"delete_note_with_specific_idand_label called with label:\", label, \"and id:\", id)\n",
    "    # Query that matches node with specific label and ID, deletes it, and counts deleted nodes.\n",
    "    query = f'''\n",
    "    MATCH (n:{label})\n",
    "    WHERE n.user_generate_id_7577777777 = \"{id}\"\n",
    "    DETACH DELETE n\n",
    "    RETURN count(n) as deletedCount\n",
    "    '''\n",
    "    result = tx.run(query)\n",
    "    return result.single()[0]  # returns the count of deleted nodes"
   ]
  },
  {
   "cell_type": "code",
   "execution_count": null,
   "id": "59527642bd62251",
   "metadata": {
    "ExecuteTime": {
     "end_time": "2024-12-22T10:42:37.386253Z",
     "start_time": "2024-12-22T10:42:37.375426Z"
    }
   },
   "outputs": [],
   "source": [
    "# k=delete_note_with_specific_idand_label(session, \"NodeExample\", \"9b6097ab-f834-4789-a542-ced4f9478cc5\")"
   ]
  },
  {
   "cell_type": "code",
   "execution_count": null,
   "id": "8fc32c102bebb412",
   "metadata": {
    "ExecuteTime": {
     "end_time": "2024-12-22T10:42:37.625910Z",
     "start_time": "2024-12-22T10:42:37.620942Z"
    }
   },
   "outputs": [
    {
     "data": {
      "text/plain": [
       "0"
      ]
     },
     "execution_count": 36,
     "metadata": {},
     "output_type": "execute_result"
    }
   ],
   "source": [
    "# k"
   ]
  }
 ],
 "metadata": {
  "kernelspec": {
   "display_name": ".venv",
   "language": "python",
   "name": "python3"
  },
  "language_info": {
   "codemirror_mode": {
    "name": "ipython",
    "version": 3
   },
   "file_extension": ".py",
   "mimetype": "text/x-python",
   "name": "python",
   "nbconvert_exporter": "python",
   "pygments_lexer": "ipython3",
   "version": "3.13.0"
  }
 },
 "nbformat": 4,
 "nbformat_minor": 5
}
