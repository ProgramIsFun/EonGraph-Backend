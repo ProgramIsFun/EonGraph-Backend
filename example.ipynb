{
 "cells": [
  {
   "cell_type": "code",
   "execution_count": 2,
   "id": "ea3837b4abf77c44",
   "metadata": {
    "ExecuteTime": {
     "end_time": "2024-12-22T10:25:42.127820Z",
     "start_time": "2024-12-22T10:25:42.124422Z"
    }
   },
   "outputs": [],
   "source": [
    "p=print\n",
    "import uuid"
   ]
  },
  {
   "cell_type": "code",
   "execution_count": 14,
   "id": "a1e4d303",
   "metadata": {},
   "outputs": [],
   "source": [
    "from config import NEO4J_URI, NEO4J_USERNAME, NEO4J_PASSWORD, NEO4J_DATABASE,GITHUB_TOKEN\n",
    "\n",
    "AUTH = (NEO4J_USERNAME, NEO4J_PASSWORD)\n",
    "\n",
    "from neo4j import GraphDatabase\n",
    "\n",
    "driver_ = GraphDatabase.driver(NEO4J_URI, auth=AUTH)\n",
    "session = driver_.session(database=NEO4J_DATABASE)"
   ]
  },
  {
   "cell_type": "markdown",
   "id": "2c3c91f7",
   "metadata": {},
   "source": [
    "## Helper Functions\n"
   ]
  },
  {
   "cell_type": "code",
   "execution_count": 4,
   "id": "99b863eb",
   "metadata": {},
   "outputs": [],
   "source": [
    "import os\n",
    "import json\n",
    "import time\n",
    "import hashlib\n",
    "\n",
    "def get_cache_filename(key: str, cache_dir='.', ext='json'):\n",
    "    \"\"\"Generate filename from key (namespace for cache).\"\"\"\n",
    "    hashed = hashlib.sha256(key.encode('utf-8')).hexdigest()\n",
    "    return os.path.join(cache_dir, f'cache_{hashed}.{ext}')\n",
    "\n",
    "def load_cache_generic(key, expiry_seconds=600, cache_dir='.'):\n",
    "    \"\"\"Load cache by key. Returns None if not found or expired.\"\"\"\n",
    "    fn = get_cache_filename(key, cache_dir)\n",
    "    if not os.path.exists(fn):\n",
    "        return None\n",
    "    try:\n",
    "        with open(fn, 'r', encoding='utf-8') as f:\n",
    "            cache = json.load(f)\n",
    "    except Exception:\n",
    "        return None\n",
    "    if time.time() - cache.get('time', 0) > expiry_seconds:\n",
    "        return None\n",
    "    return cache['data']\n",
    "\n",
    "def save_cache_generic(key, data, cache_dir='.'):\n",
    "    \"\"\"Save cache data with the given key.\"\"\"\n",
    "    fn = get_cache_filename(key, cache_dir)\n",
    "    cache = {'time': time.time(), 'data': data}\n",
    "    with open(fn, 'w', encoding='utf-8') as f:\n",
    "        json.dump(cache, f)\n",
    "\n",
    "import os\n",
    "import glob\n",
    "\n",
    "def clear_all_caches(cache_dir='.'):\n",
    "    \"\"\"Remove all cache files created by the generic cache system.\"\"\"\n",
    "    pattern = os.path.join(cache_dir, 'cache_*.json')\n",
    "    deleted = 0\n",
    "    for cache_file in glob.glob(pattern):\n",
    "        try:\n",
    "            os.remove(cache_file)\n",
    "            deleted += 1\n",
    "        except Exception as e:\n",
    "            print(f\"Failed to delete {cache_file}: {e}\")\n",
    "    print(f\"Deleted {deleted} cache files.\")\n",
    "    return deleted"
   ]
  },
  {
   "cell_type": "code",
   "execution_count": null,
   "id": "3ed054cc",
   "metadata": {},
   "outputs": [],
   "source": [
    "# return  <neo4j._sync.work.result.Result object at XXXXXXXXXX>\n",
    "def run_cypher_any(session , query):  \n",
    "    '''if MATCH (n)-[r]->(m) RETURN n, r, m,  the r will contains both node fields '''\n",
    "    result= session.run(query)\n",
    "    return result\n"
   ]
  },
  {
   "cell_type": "code",
   "execution_count": 25,
   "id": "2982d8b0",
   "metadata": {},
   "outputs": [],
   "source": [
    "example_query=\"MATCH (n)-[r]->(m) RETURN n, r, m\"\n",
    "a=run_cypher_any(session, example_query)"
   ]
  },
  {
   "cell_type": "code",
   "execution_count": 26,
   "id": "ad28c349",
   "metadata": {},
   "outputs": [],
   "source": [
    "records = [record.data() for record in a]"
   ]
  },
  {
   "cell_type": "code",
   "execution_count": 27,
   "id": "7b895c8d",
   "metadata": {},
   "outputs": [
    {
     "data": {
      "text/plain": [
       "{'n': {'user_generate_id_7577777777': '9b6097ab-f834-4789-a542-ced4f9478cc5',\n",
       "  'color': '#FFFFFF',\n",
       "  'name': 'projectssss',\n",
       "  'custom123': 'hello world'},\n",
       " 'r': ({'user_generate_id_7577777777': '9b6097ab-f834-4789-a542-ced4f9478cc5',\n",
       "   'color': '#FFFFFF',\n",
       "   'name': 'projectssss',\n",
       "   'custom123': 'hello world'},\n",
       "  'LINK3222222221',\n",
       "  {'user_generate_id_7577777777': '40be53da-ed48-4eb6-a85a-a32ba4ba7e0c',\n",
       "   'color': '#FFFFFF',\n",
       "   'name': 'btoyyyy'}),\n",
       " 'm': {'user_generate_id_7577777777': '40be53da-ed48-4eb6-a85a-a32ba4ba7e0c',\n",
       "  'color': '#FFFFFF',\n",
       "  'name': 'btoyyyy'}}"
      ]
     },
     "execution_count": 27,
     "metadata": {},
     "output_type": "execute_result"
    }
   ],
   "source": [
    "records[2]"
   ]
  },
  {
   "cell_type": "code",
   "execution_count": 21,
   "id": "8445f3ff",
   "metadata": {},
   "outputs": [
    {
     "data": {
      "text/plain": [
       "<neo4j._sync.work.result.Result at 0x2782403d350>"
      ]
     },
     "execution_count": 21,
     "metadata": {},
     "output_type": "execute_result"
    }
   ],
   "source": [
    "example_query='''MATCH (n {user_generate_id_7577777777: '9b6097ab-f834-4789-a542-ced4f9478cc5'})\n",
    "SET n.custom123 = \"hello world\"\n",
    "RETURN n\n",
    "'''\n",
    "a=run_cypher_any(session, example_query)\n",
    "a"
   ]
  },
  {
   "cell_type": "code",
   "execution_count": 23,
   "id": "a7f24e30",
   "metadata": {},
   "outputs": [
    {
     "data": {
      "text/plain": [
       "[{'n': {'user_generate_id_7577777777': '9b6097ab-f834-4789-a542-ced4f9478cc5',\n",
       "   'color': '#FFFFFF',\n",
       "   'name': 'projectssss',\n",
       "   'custom123': 'hello world'}}]"
      ]
     },
     "execution_count": 23,
     "metadata": {},
     "output_type": "execute_result"
    }
   ],
   "source": [
    "a.data()"
   ]
  },
  {
   "cell_type": "code",
   "execution_count": 15,
   "id": "c902e90e",
   "metadata": {},
   "outputs": [],
   "source": [
    "def get_all_node_and_their_connections(session):\n",
    "        result = session.run(\"MATCH (n)-[r]->(m) RETURN n, r, m\")\n",
    "        return list(result)\n",
    "\n",
    "k= session.execute_read(get_all_node_and_their_connections)"
   ]
  },
  {
   "cell_type": "code",
   "execution_count": 18,
   "id": "e7557694",
   "metadata": {},
   "outputs": [
    {
     "data": {
      "text/plain": [
       "<Relationship element_id='5:74acaeee-9af3-4f8b-aa0b-25bade12d423:1152921504606846976' nodes=(<Node element_id='4:74acaeee-9af3-4f8b-aa0b-25bade12d423:0' labels=frozenset({'normalNode588888888'}) properties={'user_generate_id_7577777777': '9b6097ab-f834-4789-a542-ced4f9478cc5', 'color': '#FFFFFF', 'name': 'projectssss'}>, <Node element_id='4:74acaeee-9af3-4f8b-aa0b-25bade12d423:2' labels=frozenset({'normalNode588888888'}) properties={'user_generate_id_7577777777': '20df637b-2cee-4507-989f-ad6383551982', 'color': '#FFFFFF', 'name': 'graph Viewer project'}>) type='LINK3222222221' properties={}>"
      ]
     },
     "execution_count": 18,
     "metadata": {},
     "output_type": "execute_result"
    }
   ],
   "source": [
    "k[0][\"r\"]"
   ]
  },
  {
   "cell_type": "markdown",
   "id": "53778abca9e43554",
   "metadata": {},
   "source": [
    "## Basic information."
   ]
  },
  {
   "cell_type": "markdown",
   "id": "d3468497",
   "metadata": {},
   "source": [
    "#### get_github_repositories\n"
   ]
  },
  {
   "cell_type": "code",
   "execution_count": null,
   "id": "9abfd380",
   "metadata": {},
   "outputs": [],
   "source": [
    "import requests\n",
    "\n",
    "def get_github_repositories(cache_expiry=60000000000000):\n",
    "    CACHE_KEY = 'github_user_repos_v1'   # Can be made more specific e.g. by username\n",
    "    repos = load_cache_generic(CACHE_KEY, expiry_seconds=cache_expiry)\n",
    "    if repos is not None:\n",
    "        print(\"Loaded from cache\")\n",
    "    else:\n",
    "        url = \"https://api.github.com/user/repos\"\n",
    "        headers = {\"Authorization\": f\"token {GITHUB_TOKEN}\"}\n",
    "        repos = []\n",
    "        page = 1\n",
    "        while True:\n",
    "            response = requests.get(url, headers=headers, params={'per_page': 100, 'page': page})\n",
    "            if response.status_code != 200:\n",
    "                print(f\"Error {response.status_code}: {response.text}\")\n",
    "                break\n",
    "            data = response.json()\n",
    "            if not data:\n",
    "                break\n",
    "            repos.extend(data)\n",
    "            page += 1\n",
    "        save_cache_generic(CACHE_KEY, repos)\n",
    "\n",
    "    # Markdown table output\n",
    "    print(\"| Name | Full Name | Private | HTML URL |\")\n",
    "    print(\"|------|-----------|---------|----------|\")\n",
    "    for repo in repos:\n",
    "        print(f\"| {repo['name']} | {repo['full_name']} | {repo['private']} | {repo['html_url']} |\")\n",
    "    return repos"
   ]
  },
  {
   "cell_type": "code",
   "execution_count": null,
   "id": "3c6ca888",
   "metadata": {},
   "outputs": [
    {
     "name": "stdout",
     "output_type": "stream",
     "text": [
      "| Name | Full Name | Private | HTML URL |\n",
      "|------|-----------|---------|----------|\n",
      "| react-question-bank | Andrew-FungKinHo/react-question-bank | True | https://github.com/Andrew-FungKinHo/react-question-bank |\n",
      "| GithubVisual | AronWaterAron/GithubVisual | False | https://github.com/AronWaterAron/GithubVisual |\n",
      "| ARTv2 | EpicGames/ARTv2 | True | https://github.com/EpicGames/ARTv2 |\n",
      "| Shave-And-A-Haircut | EpicGames/Shave-And-A-Haircut | True | https://github.com/EpicGames/Shave-And-A-Haircut |\n",
      "| UGCExample | EpicGames/UGCExample | True | https://github.com/EpicGames/UGCExample |\n",
      "| UnrealEngine | EpicGames/UnrealEngine | True | https://github.com/EpicGames/UnrealEngine |\n",
      "| UnrealTournament | EpicGames/UnrealTournament | True | https://github.com/EpicGames/UnrealTournament |\n",
      "| zen | EpicGames/zen | True | https://github.com/EpicGames/zen |\n",
      "| .github | everythingallaccount/.github | True | https://github.com/everythingallaccount/.github |\n",
      "| 20212022FALL_UST_STUDY | everythingallaccount/20212022FALL_UST_STUDY | True | https://github.com/everythingallaccount/20212022FALL_UST_STUDY |\n",
      "| 3D_map | everythingallaccount/3D_map | True | https://github.com/everythingallaccount/3D_map |\n",
      "| 5111_ass2_david | everythingallaccount/5111_ass2_david | True | https://github.com/everythingallaccount/5111_ass2_david |\n",
      "| Advanced-React-and-Redux | everythingallaccount/Advanced-React-and-Redux | True | https://github.com/everythingallaccount/Advanced-React-and-Redux |\n",
      "| AdvancedReduxCode | everythingallaccount/AdvancedReduxCode | False | https://github.com/everythingallaccount/AdvancedReduxCode |\n",
      "| AdvancedReduxCode_backup | everythingallaccount/AdvancedReduxCode_backup | True | https://github.com/everythingallaccount/AdvancedReduxCode_backup |\n",
      "| AirbnbClone_backup | everythingallaccount/AirbnbClone_backup | True | https://github.com/everythingallaccount/AirbnbClone_backup |\n",
      "| alias_windows | everythingallaccount/alias_windows | True | https://github.com/everythingallaccount/alias_windows |\n",
      "| Alibaba | everythingallaccount/Alibaba | True | https://github.com/everythingallaccount/Alibaba |\n",
      "| alipay | everythingallaccount/alipay | False | https://github.com/everythingallaccount/alipay |\n",
      "| amazon_experience | everythingallaccount/amazon_experience | True | https://github.com/everythingallaccount/amazon_experience |\n",
      "| anime_Interesting_clips | everythingallaccount/anime_Interesting_clips | True | https://github.com/everythingallaccount/anime_Interesting_clips |\n",
      "| antTutor | everythingallaccount/antTutor | True | https://github.com/everythingallaccount/antTutor |\n",
      "| antTutor_backup | everythingallaccount/antTutor_backup | True | https://github.com/everythingallaccount/antTutor_backup |\n",
      "| aoai-realtime-audio-sdk-Backup | everythingallaccount/aoai-realtime-audio-sdk-Backup | True | https://github.com/everythingallaccount/aoai-realtime-audio-sdk-Backup |\n",
      "| APEXLEGEND | everythingallaccount/APEXLEGEND | True | https://github.com/everythingallaccount/APEXLEGEND |\n",
      "| api-samples | everythingallaccount/api-samples | False | https://github.com/everythingallaccount/api-samples |\n",
      "| apiForKeras | everythingallaccount/apiForKeras | True | https://github.com/everythingallaccount/apiForKeras |\n",
      "| apppppLearningJapanese | everythingallaccount/apppppLearningJapanese | True | https://github.com/everythingallaccount/apppppLearningJapanese |\n",
      "| Arabic | everythingallaccount/Arabic | True | https://github.com/everythingallaccount/Arabic |\n",
      "| Asking | everythingallaccount/Asking | True | https://github.com/everythingallaccount/Asking |\n",
      "| awesome-actions | everythingallaccount/awesome-actions | False | https://github.com/everythingallaccount/awesome-actions |\n",
      "| AwesomeProject066 | everythingallaccount/AwesomeProject066 | True | https://github.com/everythingallaccount/AwesomeProject066 |\n",
      "| AwesomeProject11111 | everythingallaccount/AwesomeProject11111 | True | https://github.com/everythingallaccount/AwesomeProject11111 |\n",
      "| AwesomeProjectussd | everythingallaccount/AwesomeProjectussd | True | https://github.com/everythingallaccount/AwesomeProjectussd |\n",
      "| AWS-visualize | everythingallaccount/AWS-visualize | True | https://github.com/everythingallaccount/AWS-visualize |\n",
      "| AZURE-ALL | everythingallaccount/AZURE-ALL | True | https://github.com/everythingallaccount/AZURE-ALL |\n",
      "| azure-search-openai-demo-Backup | everythingallaccount/azure-search-openai-demo-Backup | True | https://github.com/everythingallaccount/azure-search-openai-demo-Backup |\n",
      "| baccccccck | everythingallaccount/baccccccck | True | https://github.com/everythingallaccount/baccccccck |\n",
      "| backTrack | everythingallaccount/backTrack | True | https://github.com/everythingallaccount/backTrack |\n",
      "| bankcard_creditcard_deposit_debit | everythingallaccount/bankcard_creditcard_deposit_debit | True | https://github.com/everythingallaccount/bankcard_creditcard_deposit_debit |\n",
      "| bankrecord | everythingallaccount/bankrecord | True | https://github.com/everythingallaccount/bankrecord |\n",
      "| bilibiliupload_myself | everythingallaccount/bilibiliupload_myself | True | https://github.com/everythingallaccount/bilibiliupload_myself |\n",
      "| bilibili_api | everythingallaccount/bilibili_api | False | https://github.com/everythingallaccount/bilibili_api |\n",
      "| bilili | everythingallaccount/bilili | False | https://github.com/everythingallaccount/bilili |\n",
      "| BiliUtil | everythingallaccount/BiliUtil | False | https://github.com/everythingallaccount/BiliUtil |\n",
      "| BiliUtil_myself | everythingallaccount/BiliUtil_myself | True | https://github.com/everythingallaccount/BiliUtil_myself |\n",
      "| bot | everythingallaccount/bot | False | https://github.com/everythingallaccount/bot |\n",
      "| ByProgrammers_backup | everythingallaccount/ByProgrammers_backup | True | https://github.com/everythingallaccount/ByProgrammers_backup |\n",
      "| Capture-windows-to-image | everythingallaccount/Capture-windows-to-image | True | https://github.com/everythingallaccount/Capture-windows-to-image |\n",
      "| CatalinMiron_backup | everythingallaccount/CatalinMiron_backup | True | https://github.com/everythingallaccount/CatalinMiron_backup |\n",
      "| Cesium3DTiles_v2_Backup | everythingallaccount/Cesium3DTiles_v2_Backup | True | https://github.com/everythingallaccount/Cesium3DTiles_v2_Backup |\n",
      "| ChatGPT-App-React-Native-TypeScript | everythingallaccount/ChatGPT-App-React-Native-TypeScript | True | https://github.com/everythingallaccount/ChatGPT-App-React-Native-TypeScript |\n",
      "| ChatGPT-App-React-Native-TypeScript-Backend | everythingallaccount/ChatGPT-App-React-Native-TypeScript-Backend | True | https://github.com/everythingallaccount/ChatGPT-App-React-Native-TypeScript-Backend |\n",
      "| chatgpt-selenium-talk-to | everythingallaccount/chatgpt-selenium-talk-to | True | https://github.com/everythingallaccount/chatgpt-selenium-talk-to |\n",
      "| CIRCLE-CI | everythingallaccount/CIRCLE-CI | True | https://github.com/everythingallaccount/CIRCLE-CI |\n",
      "| CIRCLE-CI-CLI | everythingallaccount/CIRCLE-CI-CLI | True | https://github.com/everythingallaccount/CIRCLE-CI-CLI |\n",
      "| Click-to-edit-force-directed-graph | everythingallaccount/Click-to-edit-force-directed-graph | True | https://github.com/everythingallaccount/Click-to-edit-force-directed-graph |\n",
      "| CLOUDCOMPUTESKILL | everythingallaccount/CLOUDCOMPUTESKILL | True | https://github.com/everythingallaccount/CLOUDCOMPUTESKILL |\n",
      "| CloudServersList | everythingallaccount/CloudServersList | True | https://github.com/everythingallaccount/CloudServersList |\n",
      "| cloud_price_pricing_aws_googlegcp_azure | everythingallaccount/cloud_price_pricing_aws_googlegcp_azure | True | https://github.com/everythingallaccount/cloud_price_pricing_aws_googlegcp_azure |\n",
      "| Code_Backup_Sync_git | everythingallaccount/Code_Backup_Sync_git | True | https://github.com/everythingallaccount/Code_Backup_Sync_git |\n",
      "| comp2011-LAB | everythingallaccount/comp2011-LAB | True | https://github.com/everythingallaccount/comp2011-LAB |\n",
      "| COMP3311TA | everythingallaccount/COMP3311TA | True | https://github.com/everythingallaccount/COMP3311TA |\n",
      "| COMP3311_database_server | everythingallaccount/COMP3311_database_server | True | https://github.com/everythingallaccount/COMP3311_database_server |\n",
      "| COMP3311_last_Assignment | everythingallaccount/COMP3311_last_Assignment | True | https://github.com/everythingallaccount/COMP3311_last_Assignment |\n",
      "| comp3511-lab-examples- | everythingallaccount/comp3511-lab-examples- | True | https://github.com/everythingallaccount/comp3511-lab-examples- |\n",
      "| comp3511_ta | everythingallaccount/comp3511_ta | True | https://github.com/everythingallaccount/comp3511_ta |\n",
      "| COMP4331Assignment | everythingallaccount/COMP4331Assignment | True | https://github.com/everythingallaccount/COMP4331Assignment |\n",
      "| comp4331Project- | everythingallaccount/comp4331Project- | True | https://github.com/everythingallaccount/comp4331Project- |\n",
      "| COMP4332_Project | everythingallaccount/COMP4332_Project | True | https://github.com/everythingallaccount/COMP4332_Project |\n",
      "| comp5111_Fundamentals_of_Software_Analysis | everythingallaccount/comp5111_Fundamentals_of_Software_Analysis | True | https://github.com/everythingallaccount/comp5111_Fundamentals_of_Software_Analysis |\n",
      "| COMP5111_max_prior | everythingallaccount/COMP5111_max_prior | True | https://github.com/everythingallaccount/COMP5111_max_prior |\n",
      "| comp5111_myself_ass2 | everythingallaccount/comp5111_myself_ass2 | True | https://github.com/everythingallaccount/comp5111_myself_ass2 |\n",
      "| COMP5111_My_Version | everythingallaccount/COMP5111_My_Version | True | https://github.com/everythingallaccount/COMP5111_My_Version |\n",
      "| COMP5111_REALREALMYSELF | everythingallaccount/COMP5111_REALREALMYSELF | True | https://github.com/everythingallaccount/COMP5111_REALREALMYSELF |\n",
      "| COMP5111_REAL_MYSELF | everythingallaccount/COMP5111_REAL_MYSELF | True | https://github.com/everythingallaccount/COMP5111_REAL_MYSELF |\n",
      "| COMP5331_hw | everythingallaccount/COMP5331_hw | True | https://github.com/everythingallaccount/COMP5331_hw |\n",
      "| COMP5421 | everythingallaccount/COMP5421 | True | https://github.com/everythingallaccount/COMP5421 |\n",
      "| Complete-React-Developer-in-2021-w-Redux-Hooks-GraphQL | everythingallaccount/Complete-React-Developer-in-2021-w-Redux-Hooks-GraphQL | True | https://github.com/everythingallaccount/Complete-React-Developer-in-2021-w-Redux-Hooks-GraphQL |\n",
      "| computerSystemAProgrammerPerspectiveCodeExample | everythingallaccount/computerSystemAProgrammerPerspectiveCodeExample | True | https://github.com/everythingallaccount/computerSystemAProgrammerPerspectiveCodeExample |\n",
      "| ConcurrencyLearningPython | everythingallaccount/ConcurrencyLearningPython | True | https://github.com/everythingallaccount/ConcurrencyLearningPython |\n",
      "| ConcurrencyLearningPython_asyncio | everythingallaccount/ConcurrencyLearningPython_asyncio | True | https://github.com/everythingallaccount/ConcurrencyLearningPython_asyncio |\n",
      "| ConcurrencyLearningPython_threading | everythingallaccount/ConcurrencyLearningPython_threading | True | https://github.com/everythingallaccount/ConcurrencyLearningPython_threading |\n",
      "| CONDA_ENV_BACKUP_FILES | everythingallaccount/CONDA_ENV_BACKUP_FILES | True | https://github.com/everythingallaccount/CONDA_ENV_BACKUP_FILES |\n",
      "| continuous-integration-circle | everythingallaccount/continuous-integration-circle | True | https://github.com/everythingallaccount/continuous-integration-circle |\n",
      "| conversation_chat_record | everythingallaccount/conversation_chat_record | True | https://github.com/everythingallaccount/conversation_chat_record |\n",
      "| CrawlerForComputerCourseFromPeter | everythingallaccount/CrawlerForComputerCourseFromPeter | True | https://github.com/everythingallaccount/CrawlerForComputerCourseFromPeter |\n",
      "| Crawling-Video-In-Channels | everythingallaccount/Crawling-Video-In-Channels | True | https://github.com/everythingallaccount/Crawling-Video-In-Channels |\n",
      "| CrawlingBiliBili_To_Youtube | everythingallaccount/CrawlingBiliBili_To_Youtube | True | https://github.com/everythingallaccount/CrawlingBiliBili_To_Youtube |\n",
      "| CrawlingBiliBili_To_Youtube_BackUppppppppppppppppp | everythingallaccount/CrawlingBiliBili_To_Youtube_BackUppppppppppppppppp | True | https://github.com/everythingallaccount/CrawlingBiliBili_To_Youtube_BackUppppppppppppppppp |\n",
      "| CrawlingSourceToTarget | everythingallaccount/CrawlingSourceToTarget | True | https://github.com/everythingallaccount/CrawlingSourceToTarget |\n",
      "| CreateMyOwnPyplPackage | everythingallaccount/CreateMyOwnPyplPackage | True | https://github.com/everythingallaccount/CreateMyOwnPyplPackage |\n",
      "| creating-redis-service-containers | everythingallaccount/creating-redis-service-containers | True | https://github.com/everythingallaccount/creating-redis-service-containers |\n",
      "| CriminalRecord | everythingallaccount/CriminalRecord | True | https://github.com/everythingallaccount/CriminalRecord |\n",
      "| cruzProjects | everythingallaccount/cruzProjects | True | https://github.com/everythingallaccount/cruzProjects |\n",
      "| cruz_firebase_apps | everythingallaccount/cruz_firebase_apps | True | https://github.com/everythingallaccount/cruz_firebase_apps |\n",
      "| CryptoPriceTracker_backup | everythingallaccount/CryptoPriceTracker_backup | True | https://github.com/everythingallaccount/CryptoPriceTracker_backup |\n",
      "| CryptoTracker_backup | everythingallaccount/CryptoTracker_backup | True | https://github.com/everythingallaccount/CryptoTracker_backup |\n",
      "| d3 | everythingallaccount/d3 | False | https://github.com/everythingallaccount/d3 |\n",
      "| d3-drag-learning | everythingallaccount/d3-drag-learning | True | https://github.com/everythingallaccount/d3-drag-learning |\n",
      "| d3-force-3d-backuppppp | everythingallaccount/d3-force-3d-backuppppp | False | https://github.com/everythingallaccount/d3-force-3d-backuppppp |\n",
      "| d3-octree-Backup | everythingallaccount/d3-octree-Backup | True | https://github.com/everythingallaccount/d3-octree-Backup |\n",
      "| D3_V5_Force_React | everythingallaccount/D3_V5_Force_React | False | https://github.com/everythingallaccount/D3_V5_Force_React |\n",
      "| data_visualization_render | everythingallaccount/data_visualization_render | True | https://github.com/everythingallaccount/data_visualization_render |\n",
      "| davidchen_MFSMS_backup | everythingallaccount/davidchen_MFSMS_backup | True | https://github.com/everythingallaccount/davidchen_MFSMS_backup |\n",
      "| DependencyVisualizer- | everythingallaccount/DependencyVisualizer- | True | https://github.com/everythingallaccount/DependencyVisualizer- |\n",
      "| deployingFuckFourthVersion | everythingallaccount/deployingFuckFourthVersion | True | https://github.com/everythingallaccount/deployingFuckFourthVersion |\n",
      "| deployingTestingUdemy | everythingallaccount/deployingTestingUdemy | True | https://github.com/everythingallaccount/deployingTestingUdemy |\n",
      "| DeployMachineLearningModelUdemy | everythingallaccount/DeployMachineLearningModelUdemy | True | https://github.com/everythingallaccount/DeployMachineLearningModelUdemy |\n",
      "| deploy_nodejs_to_server_githubAction | everythingallaccount/deploy_nodejs_to_server_githubAction | True | https://github.com/everythingallaccount/deploy_nodejs_to_server_githubAction |\n",
      "| DesignIntoCode_backup | everythingallaccount/DesignIntoCode_backup | True | https://github.com/everythingallaccount/DesignIntoCode_backup |\n",
      "| devconnect2.0_backup | everythingallaccount/devconnect2.0_backup | True | https://github.com/everythingallaccount/devconnect2.0_backup |\n",
      "| devconnector_2_0_backup | everythingallaccount/devconnector_2_0_backup | True | https://github.com/everythingallaccount/devconnector_2_0_backup |\n",
      "| dgraph | everythingallaccount/dgraph | False | https://github.com/everythingallaccount/dgraph |\n",
      "| DimScreen | everythingallaccount/DimScreen | False | https://github.com/everythingallaccount/DimScreen |\n",
      "| Direct-EFI-Apex-132-myself | everythingallaccount/Direct-EFI-Apex-132-myself | True | https://github.com/everythingallaccount/Direct-EFI-Apex-132-myself |\n",
      "| Discord_admin_moderate_manage | everythingallaccount/Discord_admin_moderate_manage | True | https://github.com/everythingallaccount/Discord_admin_moderate_manage |\n",
      "| Docker-and-Kubernetes-The-Complete-Guide | everythingallaccount/Docker-and-Kubernetes-The-Complete-Guide | True | https://github.com/everythingallaccount/Docker-and-Kubernetes-The-Complete-Guide |\n",
      "| docker-compose-react-nginx-backup | everythingallaccount/docker-compose-react-nginx-backup | True | https://github.com/everythingallaccount/docker-compose-react-nginx-backup |\n",
      "| docker-stephin-grider-awsbeanstalk | everythingallaccount/docker-stephin-grider-awsbeanstalk | True | https://github.com/everythingallaccount/docker-stephin-grider-awsbeanstalk |\n",
      "| DockerApi | everythingallaccount/DockerApi | True | https://github.com/everythingallaccount/DockerApi |\n",
      "| docker_master_node | everythingallaccount/docker_master_node | True | https://github.com/everythingallaccount/docker_master_node |\n",
      "| docker_officaldoc_gettingstarted | everythingallaccount/docker_officaldoc_gettingstarted | True | https://github.com/everythingallaccount/docker_officaldoc_gettingstarted |\n",
      "| docker_officaldoc_python_guide | everythingallaccount/docker_officaldoc_python_guide | True | https://github.com/everythingallaccount/docker_officaldoc_python_guide |\n",
      "| dragAndDropTree | everythingallaccount/dragAndDropTree | True | https://github.com/everythingallaccount/dragAndDropTree |\n",
      "| dragAndDropTree_editable | everythingallaccount/dragAndDropTree_editable | True | https://github.com/everythingallaccount/dragAndDropTree_editable |\n",
      "| drawio | everythingallaccount/drawio | False | https://github.com/everythingallaccount/drawio |\n",
      "| draw_io_source_navigate | everythingallaccount/draw_io_source_navigate | True | https://github.com/everythingallaccount/draw_io_source_navigate |\n",
      "| dreamcontent | everythingallaccount/dreamcontent | True | https://github.com/everythingallaccount/dreamcontent |\n",
      "| ELKstack | everythingallaccount/ELKstack | True | https://github.com/everythingallaccount/ELKstack |\n",
      "| entrepreneurship | everythingallaccount/entrepreneurship | True | https://github.com/everythingallaccount/entrepreneurship |\n",
      "| fasdata | everythingallaccount/fasdata | True | https://github.com/everythingallaccount/fasdata |\n",
      "| father_unnessary_calls | everythingallaccount/father_unnessary_calls | True | https://github.com/everythingallaccount/father_unnessary_calls |\n",
      "| finanalysis | everythingallaccount/finanalysis | True | https://github.com/everythingallaccount/finanalysis |\n",
      "| FindPartner | everythingallaccount/FindPartner | True | https://github.com/everythingallaccount/FindPartner |\n",
      "| FindProgrammingFriends | everythingallaccount/FindProgrammingFriends | True | https://github.com/everythingallaccount/FindProgrammingFriends |\n",
      "| FindTeam_web | everythingallaccount/FindTeam_web | True | https://github.com/everythingallaccount/FindTeam_web |\n",
      "| fluentd | everythingallaccount/fluentd | True | https://github.com/everythingallaccount/fluentd |\n",
      "| Folder_way_github_repo_organizing_organize | everythingallaccount/Folder_way_github_repo_organizing_organize | True | https://github.com/everythingallaccount/Folder_way_github_repo_organizing_organize |\n",
      "| friendlyeats-web_backup | everythingallaccount/friendlyeats-web_backup | True | https://github.com/everythingallaccount/friendlyeats-web_backup |\n",
      "| FrontBackEndProjectGroup.github.io | everythingallaccount/FrontBackEndProjectGroup.github.io | True | https://github.com/everythingallaccount/FrontBackEndProjectGroup.github.io |\n",
      "| FullstackReactCode-backup | everythingallaccount/FullstackReactCode-backup | True | https://github.com/everythingallaccount/FullstackReactCode-backup |\n",
      "| futu-opend-docker | everythingallaccount/futu-opend-docker | True | https://github.com/everythingallaccount/futu-opend-docker |\n",
      "| g6 | everythingallaccount/g6 | False | https://github.com/everythingallaccount/g6 |\n",
      "| GameCheatGameHack | everythingallaccount/GameCheatGameHack | True | https://github.com/everythingallaccount/GameCheatGameHack |\n",
      "| GameCheatGameHack_tutorial1 | everythingallaccount/GameCheatGameHack_tutorial1 | True | https://github.com/everythingallaccount/GameCheatGameHack_tutorial1 |\n",
      "| Gary_COMP3297 | everythingallaccount/Gary_COMP3297 | True | https://github.com/everythingallaccount/Gary_COMP3297 |\n",
      "| GatherProgrammars | everythingallaccount/GatherProgrammars | True | https://github.com/everythingallaccount/GatherProgrammars |\n",
      "| getting-started | everythingallaccount/getting-started | False | https://github.com/everythingallaccount/getting-started |\n",
      "| getting-started-github-apps | everythingallaccount/getting-started-github-apps | True | https://github.com/everythingallaccount/getting-started-github-apps |\n",
      "| git-pro-Testing | everythingallaccount/git-pro-Testing | True | https://github.com/everythingallaccount/git-pro-Testing |\n",
      "| GitHub | everythingallaccount/GitHub | True | https://github.com/everythingallaccount/GitHub |\n",
      "| github-actions-for-ci | everythingallaccount/github-actions-for-ci | True | https://github.com/everythingallaccount/github-actions-for-ci |\n",
      "| github-actions-for-packages | everythingallaccount/github-actions-for-packages | True | https://github.com/everythingallaccount/github-actions-for-packages |\n",
      "| github-slideshow | everythingallaccount/github-slideshow | True | https://github.com/everythingallaccount/github-slideshow |\n",
      "| githubapi | everythingallaccount/githubapi | True | https://github.com/everythingallaccount/githubapi |\n",
      "| GitHubApi-1 | everythingallaccount/GitHubApi-1 | False | https://github.com/everythingallaccount/GitHubApi-1 |\n",
      "| GitHubToGitLab | everythingallaccount/GitHubToGitLab | True | https://github.com/everythingallaccount/GitHubToGitLab |\n",
      "| GitHubVisualization | everythingallaccount/GitHubVisualization | True | https://github.com/everythingallaccount/GitHubVisualization |\n",
      "| GitHubVisualization-react | everythingallaccount/GitHubVisualization-react | True | https://github.com/everythingallaccount/GitHubVisualization-react |\n",
      "| GitHubVisualizer | everythingallaccount/GitHubVisualizer | False | https://github.com/everythingallaccount/GitHubVisualizer |\n",
      "| GitLabInfo_api | everythingallaccount/GitLabInfo_api | True | https://github.com/everythingallaccount/GitLabInfo_api |\n",
      "| gitpython_repos_status | everythingallaccount/gitpython_repos_status | True | https://github.com/everythingallaccount/gitpython_repos_status |\n",
      "| GitSearch_github_gitlab_other | everythingallaccount/GitSearch_github_gitlab_other | True | https://github.com/everythingallaccount/GitSearch_github_gitlab_other |\n",
      "| git_FOLDER_Structure_replicate | everythingallaccount/git_FOLDER_Structure_replicate | True | https://github.com/everythingallaccount/git_FOLDER_Structure_replicate |\n",
      "| GoodJupyterNotebookSetting | everythingallaccount/GoodJupyterNotebookSetting | True | https://github.com/everythingallaccount/GoodJupyterNotebookSetting |\n",
      "| GoodPythonProjectTemplateRepoFramework | everythingallaccount/GoodPythonProjectTemplateRepoFramework | True | https://github.com/everythingallaccount/GoodPythonProjectTemplateRepoFramework |\n",
      "| GoogleDriveActivityAPI | everythingallaccount/GoogleDriveActivityAPI | True | https://github.com/everythingallaccount/GoogleDriveActivityAPI |\n",
      "| googleDriveApi | everythingallaccount/googleDriveApi | True | https://github.com/everythingallaccount/googleDriveApi |\n",
      "| GoogleDrive_OneDrive | everythingallaccount/GoogleDrive_OneDrive | True | https://github.com/everythingallaccount/GoogleDrive_OneDrive |\n",
      "| GooglePhotoAPI | everythingallaccount/GooglePhotoAPI | True | https://github.com/everythingallaccount/GooglePhotoAPI |\n",
      "| Google_service_investigate_navigate_takeout | everythingallaccount/Google_service_investigate_navigate_takeout | True | https://github.com/everythingallaccount/Google_service_investigate_navigate_takeout |\n",
      "| google_service_master | everythingallaccount/google_service_master | True | https://github.com/everythingallaccount/google_service_master |\n",
      "| gpt-promotion-web-app. | everythingallaccount/gpt-promotion-web-app. | True | https://github.com/everythingallaccount/gpt-promotion-web-app. |\n",
      "| grammarly-typescript-Backup | everythingallaccount/grammarly-typescript-Backup | True | https://github.com/everythingallaccount/grammarly-typescript-Backup |\n",
      "| Graph | everythingallaccount/Graph | True | https://github.com/everythingallaccount/Graph |\n",
      "| GraphDB_BinaryFile | everythingallaccount/GraphDB_BinaryFile | True | https://github.com/everythingallaccount/GraphDB_BinaryFile |\n",
      "| graphexp | everythingallaccount/graphexp | False | https://github.com/everythingallaccount/graphexp |\n",
      "| graphTest | everythingallaccount/graphTest | True | https://github.com/everythingallaccount/graphTest |\n",
      "| hello-github-actions | everythingallaccount/hello-github-actions | True | https://github.com/everythingallaccount/hello-github-actions |\n",
      "| helpherprogram | everythingallaccount/helpherprogram | True | https://github.com/everythingallaccount/helpherprogram |\n",
      "| helpingOther | everythingallaccount/helpingOther | True | https://github.com/everythingallaccount/helpingOther |\n",
      "| HelpProgrammingWebsite | everythingallaccount/HelpProgrammingWebsite | True | https://github.com/everythingallaccount/HelpProgrammingWebsite |\n",
      "| heylinda-app_backup | everythingallaccount/heylinda-app_backup | True | https://github.com/everythingallaccount/heylinda-app_backup |\n",
      "| hk_open_company_stuff_entrepreneur | everythingallaccount/hk_open_company_stuff_entrepreneur | True | https://github.com/everythingallaccount/hk_open_company_stuff_entrepreneur |\n",
      "| ImportPythonModulePackageLearningHowItWorks | everythingallaccount/ImportPythonModulePackageLearningHowItWorks | True | https://github.com/everythingallaccount/ImportPythonModulePackageLearningHowItWorks |\n",
      "| InstagramClone_backup | everythingallaccount/InstagramClone_backup | True | https://github.com/everythingallaccount/InstagramClone_backup |\n",
      "| Insurance | everythingallaccount/Insurance | True | https://github.com/everythingallaccount/Insurance |\n",
      "| japanese | everythingallaccount/japanese | True | https://github.com/everythingallaccount/japanese |\n",
      "| JETBRAIN_SETTING | everythingallaccount/JETBRAIN_SETTING | True | https://github.com/everythingallaccount/JETBRAIN_SETTING |\n",
      "| jieyuba | everythingallaccount/jieyuba | True | https://github.com/everythingallaccount/jieyuba |\n",
      "| jobApply | everythingallaccount/jobApply | True | https://github.com/everythingallaccount/jobApply |\n",
      "| john_collaboration_owen | everythingallaccount/john_collaboration_owen | True | https://github.com/everythingallaccount/john_collaboration_owen |\n",
      "| kapsule2 | everythingallaccount/kapsule2 | True | https://github.com/everythingallaccount/kapsule2 |\n",
      "| knee_healing | everythingallaccount/knee_healing | True | https://github.com/everythingallaccount/knee_healing |\n",
      "| knowledge_management | everythingallaccount/knowledge_management | True | https://github.com/everythingallaccount/knowledge_management |\n",
      "| kubernetes | everythingallaccount/kubernetes | True | https://github.com/everythingallaccount/kubernetes |\n",
      "| LastWords | everythingallaccount/LastWords | True | https://github.com/everythingallaccount/LastWords |\n",
      "| LearningLicence | everythingallaccount/LearningLicence | True | https://github.com/everythingallaccount/LearningLicence |\n",
      "| LearningStripe | everythingallaccount/LearningStripe | True | https://github.com/everythingallaccount/LearningStripe |\n",
      "| Learning_android | everythingallaccount/Learning_android | True | https://github.com/everythingallaccount/Learning_android |\n",
      "| Learning_blockchain | everythingallaccount/Learning_blockchain | True | https://github.com/everythingallaccount/Learning_blockchain |\n",
      "| Learning_d3 | everythingallaccount/Learning_d3 | True | https://github.com/everythingallaccount/Learning_d3 |\n",
      "| Learning_firestore_google_realtime_database | everythingallaccount/Learning_firestore_google_realtime_database | True | https://github.com/everythingallaccount/Learning_firestore_google_realtime_database |\n",
      "| learning_java | everythingallaccount/learning_java | True | https://github.com/everythingallaccount/learning_java |\n",
      "| Learning_jetbrain_IDE_pycharm_webstorm_clion | everythingallaccount/Learning_jetbrain_IDE_pycharm_webstorm_clion | True | https://github.com/everythingallaccount/Learning_jetbrain_IDE_pycharm_webstorm_clion |\n",
      "| Learning_js_javascript | everythingallaccount/Learning_js_javascript | True | https://github.com/everythingallaccount/Learning_js_javascript |\n",
      "| Learning_Markdown_github_other | everythingallaccount/Learning_Markdown_github_other | True | https://github.com/everythingallaccount/Learning_Markdown_github_other |\n",
      "| Learning_Microservices | everythingallaccount/Learning_Microservices | True | https://github.com/everythingallaccount/Learning_Microservices |\n",
      "| Learning_Programming | everythingallaccount/Learning_Programming | True | https://github.com/everythingallaccount/Learning_Programming |\n",
      "| learning_python | everythingallaccount/learning_python | True | https://github.com/everythingallaccount/learning_python |\n",
      "| Learning_tensorflow | everythingallaccount/Learning_tensorflow | True | https://github.com/everythingallaccount/Learning_tensorflow |\n",
      "| Learning_web_development | everythingallaccount/Learning_web_development | True | https://github.com/everythingallaccount/Learning_web_development |\n",
      "| LIVE-uber-eats-clone-youtube_backup | everythingallaccount/LIVE-uber-eats-clone-youtube_backup | True | https://github.com/everythingallaccount/LIVE-uber-eats-clone-youtube_backup |\n",
      "| llama-backup | everythingallaccount/llama-backup | True | https://github.com/everythingallaccount/llama-backup |\n",
      "| lockage | everythingallaccount/lockage | True | https://github.com/everythingallaccount/lockage |\n",
      "| lockage.github.io | everythingallaccount/lockage.github.io | True | https://github.com/everythingallaccount/lockage.github.io |\n",
      "| magento_react_native_graphql_backup | everythingallaccount/magento_react_native_graphql_backup | True | https://github.com/everythingallaccount/magento_react_native_graphql_backup |\n",
      "| MCP | everythingallaccount/MCP | True | https://github.com/everythingallaccount/MCP |\n",
      "| MERN-Stack-Front-To-Back-Full-Stack-React-Redux-Node.js | everythingallaccount/MERN-Stack-Front-To-Back-Full-Stack-React-Redux-Node.js | True | https://github.com/everythingallaccount/MERN-Stack-Front-To-Back-Full-Stack-React-Redux-Node.js |\n",
      "| metahkg-server_backup | everythingallaccount/metahkg-server_backup | True | https://github.com/everythingallaccount/metahkg-server_backup |\n",
      "| metahkg-web_backup | everythingallaccount/metahkg-web_backup | True | https://github.com/everythingallaccount/metahkg-web_backup |\n",
      "| metahkg_secrets_env_file | everythingallaccount/metahkg_secrets_env_file | True | https://github.com/everythingallaccount/metahkg_secrets_env_file |\n",
      "| Microservices-with-Node-JS-and-React | everythingallaccount/Microservices-with-Node-JS-and-React | True | https://github.com/everythingallaccount/Microservices-with-Node-JS-and-React |\n",
      "| migrates-to-Electron | everythingallaccount/migrates-to-Electron | True | https://github.com/everythingallaccount/migrates-to-Electron |\n",
      "| MindMap | everythingallaccount/MindMap | True | https://github.com/everythingallaccount/MindMap |\n",
      "| modallogic | everythingallaccount/modallogic | False | https://github.com/everythingallaccount/modallogic |\n",
      "| Modern-React-with-Redux-2020-Update- | everythingallaccount/Modern-React-with-Redux-2020-Update- | True | https://github.com/everythingallaccount/Modern-React-with-Redux-2020-Update- |\n",
      "| mongo-viz_backup | everythingallaccount/mongo-viz_backup | True | https://github.com/everythingallaccount/mongo-viz_backup |\n",
      "| MouseSpeedCursorPointerChange | everythingallaccount/MouseSpeedCursorPointerChange | True | https://github.com/everythingallaccount/MouseSpeedCursorPointerChange |\n",
      "| movie | everythingallaccount/movie | True | https://github.com/everythingallaccount/movie |\n",
      "| movie_cinema_theater | everythingallaccount/movie_cinema_theater | True | https://github.com/everythingallaccount/movie_cinema_theater |\n",
      "| multi-container-nginx-react-node-mongo-backup | everythingallaccount/multi-container-nginx-react-node-mongo-backup | True | https://github.com/everythingallaccount/multi-container-nginx-react-node-mongo-backup |\n",
      "| musicRepo | everythingallaccount/musicRepo | True | https://github.com/everythingallaccount/musicRepo |\n",
      "| music_playlist_sync | everythingallaccount/music_playlist_sync | True | https://github.com/everythingallaccount/music_playlist_sync |\n",
      "| my-app-tttttttttt | everythingallaccount/my-app-tttttttttt | True | https://github.com/everythingallaccount/my-app-tttttttttt |\n",
      "| MyOwnAliyunInfo | everythingallaccount/MyOwnAliyunInfo | True | https://github.com/everythingallaccount/MyOwnAliyunInfo |\n",
      "| MyOwnAwsInfo | everythingallaccount/MyOwnAwsInfo | True | https://github.com/everythingallaccount/MyOwnAwsInfo |\n",
      "| MyOwnDebugRoad | everythingallaccount/MyOwnDebugRoad | True | https://github.com/everythingallaccount/MyOwnDebugRoad |\n",
      "| MyOwnDependencyManagement | everythingallaccount/MyOwnDependencyManagement | True | https://github.com/everythingallaccount/MyOwnDependencyManagement |\n",
      "| MyOwnDockerFile_commithistory | everythingallaccount/MyOwnDockerFile_commithistory | True | https://github.com/everythingallaccount/MyOwnDockerFile_commithistory |\n",
      "| MyOwnDouYuCrawler | everythingallaccount/MyOwnDouYuCrawler | True | https://github.com/everythingallaccount/MyOwnDouYuCrawler |\n",
      "| MyOwnffmpegDoc | everythingallaccount/MyOwnffmpegDoc | True | https://github.com/everythingallaccount/MyOwnffmpegDoc |\n",
      "| MyOwnGeneralCrawler | everythingallaccount/MyOwnGeneralCrawler | True | https://github.com/everythingallaccount/MyOwnGeneralCrawler |\n",
      "| MyOwnGeneralCrawler_PythonGoodPracticeRuleOfThumb | everythingallaccount/MyOwnGeneralCrawler_PythonGoodPracticeRuleOfThumb | True | https://github.com/everythingallaccount/MyOwnGeneralCrawler_PythonGoodPracticeRuleOfThumb |\n",
      "| MyOwnGeneralCrawler_PythonGoodPracticeRuleOfThumb_pytest | everythingallaccount/MyOwnGeneralCrawler_PythonGoodPracticeRuleOfThumb_pytest | True | https://github.com/everythingallaccount/MyOwnGeneralCrawler_PythonGoodPracticeRuleOfThumb_pytest |\n",
      "| MyOwnGoogleCloudInfo | everythingallaccount/MyOwnGoogleCloudInfo | True | https://github.com/everythingallaccount/MyOwnGoogleCloudInfo |\n",
      "| MyOwnHuYaCrawler | everythingallaccount/MyOwnHuYaCrawler | True | https://github.com/everythingallaccount/MyOwnHuYaCrawler |\n",
      "| MyOwnKuaiShouCrawler | everythingallaccount/MyOwnKuaiShouCrawler | True | https://github.com/everythingallaccount/MyOwnKuaiShouCrawler |\n",
      "| MyOwnMongoDbInfo | everythingallaccount/MyOwnMongoDbInfo | True | https://github.com/everythingallaccount/MyOwnMongoDbInfo |\n",
      "| MyOwnProgrammingTools | everythingallaccount/MyOwnProgrammingTools | True | https://github.com/everythingallaccount/MyOwnProgrammingTools |\n",
      "| MyOwnPythonGitHubAction | everythingallaccount/MyOwnPythonGitHubAction | True | https://github.com/everythingallaccount/MyOwnPythonGitHubAction |\n",
      "| MyOwnVideoInspector | everythingallaccount/MyOwnVideoInspector | True | https://github.com/everythingallaccount/MyOwnVideoInspector |\n",
      "| MyOwnVideoMaker | everythingallaccount/MyOwnVideoMaker | True | https://github.com/everythingallaccount/MyOwnVideoMaker |\n",
      "| MyOwnVideoStreamer | everythingallaccount/MyOwnVideoStreamer | True | https://github.com/everythingallaccount/MyOwnVideoStreamer |\n",
      "| MyOwnVideoTypeDiscussion | everythingallaccount/MyOwnVideoTypeDiscussion | True | https://github.com/everythingallaccount/MyOwnVideoTypeDiscussion |\n",
      "| MyOwnVideoUploader | everythingallaccount/MyOwnVideoUploader | True | https://github.com/everythingallaccount/MyOwnVideoUploader |\n",
      "| MyOwnVideoVisualizer | everythingallaccount/MyOwnVideoVisualizer | True | https://github.com/everythingallaccount/MyOwnVideoVisualizer |\n",
      "| MyPersonalWebsite | everythingallaccount/MyPersonalWebsite | True | https://github.com/everythingallaccount/MyPersonalWebsite |\n",
      "| MyResearchCseServer | everythingallaccount/MyResearchCseServer | True | https://github.com/everythingallaccount/MyResearchCseServer |\n",
      "| MyResearchDevOps | everythingallaccount/MyResearchDevOps | True | https://github.com/everythingallaccount/MyResearchDevOps |\n",
      "| My_Computer_SetUp | everythingallaccount/My_Computer_SetUp | True | https://github.com/everythingallaccount/My_Computer_SetUp |\n",
      "| MY_CONDA_ENV | everythingallaccount/MY_CONDA_ENV | True | https://github.com/everythingallaccount/MY_CONDA_ENV |\n",
      "| neo4j-browser-backup | everythingallaccount/neo4j-browser-backup | True | https://github.com/everythingallaccount/neo4j-browser-backup |\n",
      "| neo4j-connector-manipulator | everythingallaccount/neo4j-connector-manipulator | True | https://github.com/everythingallaccount/neo4j-connector-manipulator |\n",
      "| nft_game_backup | everythingallaccount/nft_game_backup | True | https://github.com/everythingallaccount/nft_game_backup |\n",
      "| nmf-app_backup | everythingallaccount/nmf-app_backup | True | https://github.com/everythingallaccount/nmf-app_backup |\n",
      "| Node-with-React-Fullstack-Web-Development | everythingallaccount/Node-with-React-Fullstack-Web-Development | True | https://github.com/everythingallaccount/Node-with-React-Fullstack-Web-Development |\n",
      "| node_ethereum_bsc | everythingallaccount/node_ethereum_bsc | True | https://github.com/everythingallaccount/node_ethereum_bsc |\n",
      "| OneDriveApi | everythingallaccount/OneDriveApi | True | https://github.com/everythingallaccount/OneDriveApi |\n",
      "| ParallelismLearningPython_multiprocessing | everythingallaccount/ParallelismLearningPython_multiprocessing | True | https://github.com/everythingallaccount/ParallelismLearningPython_multiprocessing |\n",
      "| PayPalTransactionHistoryAnalysis | everythingallaccount/PayPalTransactionHistoryAnalysis | True | https://github.com/everythingallaccount/PayPalTransactionHistoryAnalysis |\n",
      "| PlayWithGit | everythingallaccount/PlayWithGit | True | https://github.com/everythingallaccount/PlayWithGit |\n",
      "| pre-commit-hook-learn | everythingallaccount/pre-commit-hook-learn | True | https://github.com/everythingallaccount/pre-commit-hook-learn |\n",
      "| prometheus | everythingallaccount/prometheus | False | https://github.com/everythingallaccount/prometheus |\n",
      "| push-notifications-expo-example_backup | everythingallaccount/push-notifications-expo-example_backup | True | https://github.com/everythingallaccount/push-notifications-expo-example_backup |\n",
      "| pydeps | everythingallaccount/pydeps | False | https://github.com/everythingallaccount/pydeps |\n",
      "| python-docs-samples | everythingallaccount/python-docs-samples | False | https://github.com/everythingallaccount/python-docs-samples |\n",
      "| python-skillllllllllllllllllllllllllllllllllllllllllllllllllllllllllllllllllllllllllllllllllllllllll | everythingallaccount/python-skillllllllllllllllllllllllllllllllllllllllllllllllllllllllllllllllllllllllllllllllllllllllll | True | https://github.com/everythingallaccount/python-skillllllllllllllllllllllllllllllllllllllllllllllllllllllllllllllllllllllllllllllllllllllllll |\n",
      "| pythonAutoDocumentationGithubPageSphinx | everythingallaccount/pythonAutoDocumentationGithubPageSphinx | True | https://github.com/everythingallaccount/pythonAutoDocumentationGithubPageSphinx |\n",
      "| PythonCodeVisualization | everythingallaccount/PythonCodeVisualization | True | https://github.com/everythingallaccount/PythonCodeVisualization |\n",
      "| PythonGUI_PyQt5_PySide2_Resource | everythingallaccount/PythonGUI_PyQt5_PySide2_Resource | True | https://github.com/everythingallaccount/PythonGUI_PyQt5_PySide2_Resource |\n",
      "| PythonLogging | everythingallaccount/PythonLogging | True | https://github.com/everythingallaccount/PythonLogging |\n",
      "| PythonSIFT_backup | everythingallaccount/PythonSIFT_backup | True | https://github.com/everythingallaccount/PythonSIFT_backup |\n",
      "| python_proxy_try | everythingallaccount/python_proxy_try | True | https://github.com/everythingallaccount/python_proxy_try |\n",
      "| Quantdom | everythingallaccount/Quantdom | False | https://github.com/everythingallaccount/Quantdom |\n",
      "| Raylen | everythingallaccount/Raylen | True | https://github.com/everythingallaccount/Raylen |\n",
      "| react-d3 | everythingallaccount/react-d3 | False | https://github.com/everythingallaccount/react-d3 |\n",
      "| react-d3-more-examples | everythingallaccount/react-d3-more-examples | True | https://github.com/everythingallaccount/react-d3-more-examples |\n",
      "| react-explorer-Backupppp7 | everythingallaccount/react-explorer-Backupppp7 | True | https://github.com/everythingallaccount/react-explorer-Backupppp7 |\n",
      "| react-firebase-admin_backup | everythingallaccount/react-firebase-admin_backup | True | https://github.com/everythingallaccount/react-firebase-admin_backup |\n",
      "| react-firebase-oauth_backup | everythingallaccount/react-firebase-oauth_backup | True | https://github.com/everythingallaccount/react-firebase-oauth_backup |\n",
      "| react-force-graph | everythingallaccount/react-force-graph | False | https://github.com/everythingallaccount/react-force-graph |\n",
      "| react-force-graph_backup | everythingallaccount/react-force-graph_backup | True | https://github.com/everythingallaccount/react-force-graph_backup |\n",
      "| react-kapsule2 | everythingallaccount/react-kapsule2 | True | https://github.com/everythingallaccount/react-kapsule2 |\n",
      "| react-native-chatgpt | everythingallaccount/react-native-chatgpt | True | https://github.com/everythingallaccount/react-native-chatgpt |\n",
      "| React-Native-Course_backup | everythingallaccount/React-Native-Course_backup | True | https://github.com/everythingallaccount/React-Native-Course_backup |\n",
      "| react-native-emoji-selector_backup | everythingallaccount/react-native-emoji-selector_backup | True | https://github.com/everythingallaccount/react-native-emoji-selector_backup |\n",
      "| react-native-exercise-app_backup | everythingallaccount/react-native-exercise-app_backup | True | https://github.com/everythingallaccount/react-native-exercise-app_backup |\n",
      "| react-native-firebase-social-app_backend | everythingallaccount/react-native-firebase-social-app_backend | True | https://github.com/everythingallaccount/react-native-firebase-social-app_backend |\n",
      "| react-native-firebase-social-app_backup | everythingallaccount/react-native-firebase-social-app_backup | True | https://github.com/everythingallaccount/react-native-firebase-social-app_backup |\n",
      "| react-native-firebase-social-app_toexpo | everythingallaccount/react-native-firebase-social-app_toexpo | True | https://github.com/everythingallaccount/react-native-firebase-social-app_toexpo |\n",
      "| react-native-get-sms-android_backup | everythingallaccount/react-native-get-sms-android_backup | True | https://github.com/everythingallaccount/react-native-get-sms-android_backup |\n",
      "| react-native-hiapp_backup | everythingallaccount/react-native-hiapp_backup | True | https://github.com/everythingallaccount/react-native-hiapp_backup |\n",
      "| react-native-modal-example_backup | everythingallaccount/react-native-modal-example_backup | True | https://github.com/everythingallaccount/react-native-modal-example_backup |\n",
      "| react-native-movie-2.0-carousel_backup | everythingallaccount/react-native-movie-2.0-carousel_backup | True | https://github.com/everythingallaccount/react-native-movie-2.0-carousel_backup |\n",
      "| react-native-the-practical-guide_backup | everythingallaccount/react-native-the-practical-guide_backup | True | https://github.com/everythingallaccount/react-native-the-practical-guide_backup |\n",
      "| react-native-twitter-clone_backup | everythingallaccount/react-native-twitter-clone_backup | True | https://github.com/everythingallaccount/react-native-twitter-clone_backup |\n",
      "| react-native-ussd_backup | everythingallaccount/react-native-ussd_backup | True | https://github.com/everythingallaccount/react-native-ussd_backup |\n",
      "| react-navigation-v5-mix_backup | everythingallaccount/react-navigation-v5-mix_backup | True | https://github.com/everythingallaccount/react-navigation-v5-mix_backup |\n",
      "| react-navigation-v5-mix_backup_toexpo | everythingallaccount/react-navigation-v5-mix_backup_toexpo | True | https://github.com/everythingallaccount/react-navigation-v5-mix_backup_toexpo |\n",
      "| ReactChatGPTChatbot | everythingallaccount/ReactChatGPTChatbot | True | https://github.com/everythingallaccount/ReactChatGPTChatbot |\n",
      "| receiveTextFromPhoneBackend | everythingallaccount/receiveTextFromPhoneBackend | True | https://github.com/everythingallaccount/receiveTextFromPhoneBackend |\n",
      "| receiveTextFromPhoneFrontend | everythingallaccount/receiveTextFromPhoneFrontend | True | https://github.com/everythingallaccount/receiveTextFromPhoneFrontend |\n",
      "| Rent_unit_industrial_Building_for_programming_coding | everythingallaccount/Rent_unit_industrial_Building_for_programming_coding | True | https://github.com/everythingallaccount/Rent_unit_industrial_Building_for_programming_coding |\n",
      "| RMBI3110 | everythingallaccount/RMBI3110 | True | https://github.com/everythingallaccount/RMBI3110 |\n",
      "| RMBI_CAPSTONE_JUPYTERNOTEBOOK | everythingallaccount/RMBI_CAPSTONE_JUPYTERNOTEBOOK | True | https://github.com/everythingallaccount/RMBI_CAPSTONE_JUPYTERNOTEBOOK |\n",
      "| RMBI_Capstone_self | everythingallaccount/RMBI_Capstone_self | True | https://github.com/everythingallaccount/RMBI_Capstone_self |\n",
      "| RMBI_Capstone_WebSite | everythingallaccount/RMBI_Capstone_WebSite | True | https://github.com/everythingallaccount/RMBI_Capstone_WebSite |\n",
      "| roadmapedia | everythingallaccount/roadmapedia | False | https://github.com/everythingallaccount/roadmapedia |\n",
      "| search-engine-advanced | everythingallaccount/search-engine-advanced | True | https://github.com/everythingallaccount/search-engine-advanced |\n",
      "| secret-variable-all-project- | everythingallaccount/secret-variable-all-project- | True | https://github.com/everythingallaccount/secret-variable-all-project- |\n",
      "| share_office_find_rent | everythingallaccount/share_office_find_rent | True | https://github.com/everythingallaccount/share_office_find_rent |\n",
      "| SignalClone_backup | everythingallaccount/SignalClone_backup | True | https://github.com/everythingallaccount/SignalClone_backup |\n",
      "| START-UP-SCRIPT-STARTWORK | everythingallaccount/START-UP-SCRIPT-STARTWORK | True | https://github.com/everythingallaccount/START-UP-SCRIPT-STARTWORK |\n",
      "| starties_toexpo | everythingallaccount/starties_toexpo | True | https://github.com/everythingallaccount/starties_toexpo |\n",
      "| stripe-react-native_backup | everythingallaccount/stripe-react-native_backup | True | https://github.com/everythingallaccount/stripe-react-native_backup |\n",
      "| structr | everythingallaccount/structr | False | https://github.com/everythingallaccount/structr |\n",
      "| Sync_GitHub_to_GitLab | everythingallaccount/Sync_GitHub_to_GitLab | True | https://github.com/everythingallaccount/Sync_GitHub_to_GitLab |\n",
      "| talk-react-d3 | everythingallaccount/talk-react-d3 | False | https://github.com/everythingallaccount/talk-react-d3 |\n",
      "| Taobao-unreal-Engine | everythingallaccount/Taobao-unreal-Engine | False | https://github.com/everythingallaccount/Taobao-unreal-Engine |\n",
      "| TEC-Work | everythingallaccount/TEC-Work | True | https://github.com/everythingallaccount/TEC-Work |\n",
      "| TELEGRAM_BOT | everythingallaccount/TELEGRAM_BOT | True | https://github.com/everythingallaccount/TELEGRAM_BOT |\n",
      "| testingPrivateDependency | everythingallaccount/testingPrivateDependency | True | https://github.com/everythingallaccount/testingPrivateDependency |\n",
      "| testingPrivateDependency_Main | everythingallaccount/testingPrivateDependency_Main | True | https://github.com/everythingallaccount/testingPrivateDependency_Main |\n",
      "| test_transfer | everythingallaccount/test_transfer | True | https://github.com/everythingallaccount/test_transfer |\n",
      "| those_worth_to_remember | everythingallaccount/those_worth_to_remember | True | https://github.com/everythingallaccount/those_worth_to_remember |\n",
      "| three-forcegraph-backupppp | everythingallaccount/three-forcegraph-backupppp | False | https://github.com/everythingallaccount/three-forcegraph-backupppp |\n",
      "| to-do- | everythingallaccount/to-do- | True | https://github.com/everythingallaccount/to-do- |\n",
      "| Trademark_hk_reg | everythingallaccount/Trademark_hk_reg | True | https://github.com/everythingallaccount/Trademark_hk_reg |\n",
      "| TradingApiTestingPlaying | everythingallaccount/TradingApiTestingPlaying | True | https://github.com/everythingallaccount/TradingApiTestingPlaying |\n",
      "| TradingGuiConstructing | everythingallaccount/TradingGuiConstructing | True | https://github.com/everythingallaccount/TradingGuiConstructing |\n",
      "| Trying-to-convert-Create-React-app-to-electron | everythingallaccount/Trying-to-convert-Create-React-app-to-electron | True | https://github.com/everythingallaccount/Trying-to-convert-Create-React-app-to-electron |\n",
      "| trying_web_graph_library | everythingallaccount/trying_web_graph_library | True | https://github.com/everythingallaccount/trying_web_graph_library |\n",
      "| tttttttest | everythingallaccount/tttttttest | True | https://github.com/everythingallaccount/tttttttest |\n",
      "| tutorAgent | everythingallaccount/tutorAgent | True | https://github.com/everythingallaccount/tutorAgent |\n",
      "| tutorAgent_app | everythingallaccount/tutorAgent_app | True | https://github.com/everythingallaccount/tutorAgent_app |\n",
      "| tutorAgent_backup | everythingallaccount/tutorAgent_backup | True | https://github.com/everythingallaccount/tutorAgent_backup |\n",
      "| Typescript-The-Complete-Developer-s-Guide | everythingallaccount/Typescript-The-Complete-Developer-s-Guide | True | https://github.com/everythingallaccount/Typescript-The-Complete-Developer-s-Guide |\n",
      "| UDEMY-REACT-NATIVE | everythingallaccount/UDEMY-REACT-NATIVE | True | https://github.com/everythingallaccount/UDEMY-REACT-NATIVE |\n",
      "| UDEMY_REACT | everythingallaccount/UDEMY_REACT | True | https://github.com/everythingallaccount/UDEMY_REACT |\n",
      "| ue4-force-graph-backupppp | everythingallaccount/ue4-force-graph-backupppp | False | https://github.com/everythingallaccount/ue4-force-graph-backupppp |\n",
      "| ue4-force-graph-backupppp-temp | everythingallaccount/ue4-force-graph-backupppp-temp | False | https://github.com/everythingallaccount/ue4-force-graph-backupppp-temp |\n",
      "| ue521fpscale37 | everythingallaccount/ue521fpscale37 | True | https://github.com/everythingallaccount/ue521fpscale37 |\n",
      "| ue521fpscale37bp | everythingallaccount/ue521fpscale37bp | True | https://github.com/everythingallaccount/ue521fpscale37bp |\n",
      "| UE5_NBodySimulation-Backup | everythingallaccount/UE5_NBodySimulation-Backup | True | https://github.com/everythingallaccount/UE5_NBodySimulation-Backup |\n",
      "| Ultimate-CommonUI-Menu-System-Backup | everythingallaccount/Ultimate-CommonUI-Menu-System-Backup | True | https://github.com/everythingallaccount/Ultimate-CommonUI-Menu-System-Backup |\n",
      "| UnityGraphForceexampleFromasseStore | everythingallaccount/UnityGraphForceexampleFromasseStore | True | https://github.com/everythingallaccount/UnityGraphForceexampleFromasseStore |\n",
      "| Unreal-Engine-Compute-Shader-Destory-Projectbased | everythingallaccount/Unreal-Engine-Compute-Shader-Destory-Projectbased | True | https://github.com/everythingallaccount/Unreal-Engine-Compute-Shader-Destory-Projectbased |\n",
      "| Unreal-engine-http-requests-Testing | everythingallaccount/Unreal-engine-http-requests-Testing | True | https://github.com/everythingallaccount/Unreal-engine-http-requests-Testing |\n",
      "| UploadPythonPackage | everythingallaccount/UploadPythonPackage | True | https://github.com/everythingallaccount/UploadPythonPackage |\n",
      "| upload_udemy_to_youtube | everythingallaccount/upload_udemy_to_youtube | True | https://github.com/everythingallaccount/upload_udemy_to_youtube |\n",
      "| using-react-hooks-with-d3_backup | everythingallaccount/using-react-hooks-with-d3_backup | True | https://github.com/everythingallaccount/using-react-hooks-with-d3_backup |\n",
      "| UsingYoutubeWithPython | everythingallaccount/UsingYoutubeWithPython | True | https://github.com/everythingallaccount/UsingYoutubeWithPython |\n",
      "| VBA_StockAnalyzer_Oliveria | everythingallaccount/VBA_StockAnalyzer_Oliveria | True | https://github.com/everythingallaccount/VBA_StockAnalyzer_Oliveria |\n",
      "| VideoCrawler | everythingallaccount/VideoCrawler | True | https://github.com/everythingallaccount/VideoCrawler |\n",
      "| vpn_in_docker_server | everythingallaccount/vpn_in_docker_server | True | https://github.com/everythingallaccount/vpn_in_docker_server |\n",
      "| vsdx_myself | everythingallaccount/vsdx_myself | True | https://github.com/everythingallaccount/vsdx_myself |\n",
      "| VSThemeProject11111113 | everythingallaccount/VSThemeProject11111113 | True | https://github.com/everythingallaccount/VSThemeProject11111113 |\n",
      "| WebCrawlingBookIbought | everythingallaccount/WebCrawlingBookIbought | True | https://github.com/everythingallaccount/WebCrawlingBookIbought |\n",
      "| wechat-web | everythingallaccount/wechat-web | True | https://github.com/everythingallaccount/wechat-web |\n",
      "| WhatsappClone_backup | everythingallaccount/WhatsappClone_backup | True | https://github.com/everythingallaccount/WhatsappClone_backup |\n",
      "| WindsReacttttttttttttttttt | everythingallaccount/WindsReacttttttttttttttttt | True | https://github.com/everythingallaccount/WindsReacttttttttttttttttt |\n",
      "| wp-clone_backup | everythingallaccount/wp-clone_backup | True | https://github.com/everythingallaccount/wp-clone_backup |\n",
      "| yfinance | everythingallaccount/yfinance | False | https://github.com/everythingallaccount/yfinance |\n",
      "| youtube-data-api_myself | everythingallaccount/youtube-data-api_myself | True | https://github.com/everythingallaccount/youtube-data-api_myself |\n",
      "| youtubefunctiondeveloping | everythingallaccount/youtubefunctiondeveloping | True | https://github.com/everythingallaccount/youtubefunctiondeveloping |\n",
      "| YumMeals_backup | everythingallaccount/YumMeals_backup | True | https://github.com/everythingallaccount/YumMeals_backup |\n",
      "| anytimemailbox-integration | executivecentre/anytimemailbox-integration | True | https://github.com/executivecentre/anytimemailbox-integration |\n",
      "| business-card-poc | executivecentre/business-card-poc | True | https://github.com/executivecentre/business-card-poc |\n",
      "| chatbot-test | executivecentre/chatbot-test | True | https://github.com/executivecentre/chatbot-test |\n",
      "| core-coworking-signin | executivecentre/core-coworking-signin | True | https://github.com/executivecentre/core-coworking-signin |\n",
      "| core-coworking-signin-kiosk | executivecentre/core-coworking-signin-kiosk | True | https://github.com/executivecentre/core-coworking-signin-kiosk |\n",
      "| core-service-pricing | executivecentre/core-service-pricing | True | https://github.com/executivecentre/core-service-pricing |\n",
      "| core-service-user | executivecentre/core-service-user | True | https://github.com/executivecentre/core-service-user |\n",
      "| core-service-verification | executivecentre/core-service-verification | True | https://github.com/executivecentre/core-service-verification |\n",
      "| esg-report | executivecentre/esg-report | True | https://github.com/executivecentre/esg-report |\n",
      "| etg-dotnet-common | executivecentre/etg-dotnet-common | True | https://github.com/executivecentre/etg-dotnet-common |\n",
      "| etg-identity | executivecentre/etg-identity | True | https://github.com/executivecentre/etg-identity |\n",
      "| executivecentre | executivecentre/executivecentre | False | https://github.com/executivecentre/executivecentre |\n",
      "| finance-card-tokenizer | executivecentre/finance-card-tokenizer | True | https://github.com/executivecentre/finance-card-tokenizer |\n",
      "| finance-payment-gateway | executivecentre/finance-payment-gateway | True | https://github.com/executivecentre/finance-payment-gateway |\n",
      "| finance-payment-gateway-cybersource | executivecentre/finance-payment-gateway-cybersource | True | https://github.com/executivecentre/finance-payment-gateway-cybersource |\n",
      "| finance-payment-gateway-cybersource-kcp | executivecentre/finance-payment-gateway-cybersource-kcp | True | https://github.com/executivecentre/finance-payment-gateway-cybersource-kcp |\n",
      "| finance-payment-gateway-gmo | executivecentre/finance-payment-gateway-gmo | True | https://github.com/executivecentre/finance-payment-gateway-gmo |\n",
      "| finance-payment-gateway-kicc | executivecentre/finance-payment-gateway-kicc | True | https://github.com/executivecentre/finance-payment-gateway-kicc |\n",
      "| general-aron-flutter | executivecentre/general-aron-flutter | True | https://github.com/executivecentre/general-aron-flutter |\n",
      "| health | executivecentre/health | True | https://github.com/executivecentre/health |\n",
      "| lepos-netsuite-integration | executivecentre/lepos-netsuite-integration | True | https://github.com/executivecentre/lepos-netsuite-integration |\n",
      "| limousine-booking | executivecentre/limousine-booking | True | https://github.com/executivecentre/limousine-booking |\n",
      "| loyalty-httpclient | executivecentre/loyalty-httpclient | True | https://github.com/executivecentre/loyalty-httpclient |\n",
      "| MCP | executivecentre/MCP | True | https://github.com/executivecentre/MCP |\n",
      "| mcp-client-test | executivecentre/mcp-client-test | True | https://github.com/executivecentre/mcp-client-test |\n",
      "| mcp-test-server-1 | executivecentre/mcp-test-server-1 | True | https://github.com/executivecentre/mcp-test-server-1 |\n",
      "| mcp-test-server-2 | executivecentre/mcp-test-server-2 | True | https://github.com/executivecentre/mcp-test-server-2 |\n",
      "| mcp-test-server-3 | executivecentre/mcp-test-server-3 | True | https://github.com/executivecentre/mcp-test-server-3 |\n",
      "| me-booking | executivecentre/me-booking | True | https://github.com/executivecentre/me-booking |\n",
      "| me-online-ordering | executivecentre/me-online-ordering | True | https://github.com/executivecentre/me-online-ordering |\n",
      "| me-revenue | executivecentre/me-revenue | True | https://github.com/executivecentre/me-revenue |\n",
      "| mytec-app-3 | executivecentre/mytec-app-3 | True | https://github.com/executivecentre/mytec-app-3 |\n",
      "| mytec-app-3-infrastructure | executivecentre/mytec-app-3-infrastructure | True | https://github.com/executivecentre/mytec-app-3-infrastructure |\n",
      "| mytec-ordering | executivecentre/mytec-ordering | True | https://github.com/executivecentre/mytec-ordering |\n",
      "| mytec-projection | executivecentre/mytec-projection | True | https://github.com/executivecentre/mytec-projection |\n",
      "| mytec-web-2 | executivecentre/mytec-web-2 | True | https://github.com/executivecentre/mytec-web-2 |\n",
      "| netsuite-dataimporter | executivecentre/netsuite-dataimporter | True | https://github.com/executivecentre/netsuite-dataimporter |\n",
      "| netsuite-dev | executivecentre/netsuite-dev | True | https://github.com/executivecentre/netsuite-dev |\n",
      "| netsuite-sdk | executivecentre/netsuite-sdk | True | https://github.com/executivecentre/netsuite-sdk |\n",
      "| nexudus-dashboard | executivecentre/nexudus-dashboard | True | https://github.com/executivecentre/nexudus-dashboard |\n",
      "| npm-common-helper | executivecentre/npm-common-helper | True | https://github.com/executivecentre/npm-common-helper |\n",
      "| openai-assistants-quickstart | executivecentre/openai-assistants-quickstart | True | https://github.com/executivecentre/openai-assistants-quickstart |\n",
      "| openai-assistants-quickstart1 | executivecentre/openai-assistants-quickstart1 | True | https://github.com/executivecentre/openai-assistants-quickstart1 |\n",
      "| ops-engagement | executivecentre/ops-engagement | True | https://github.com/executivecentre/ops-engagement |\n",
      "| ops-ordering-api | executivecentre/ops-ordering-api | True | https://github.com/executivecentre/ops-ordering-api |\n",
      "| ops-vocw-signup | executivecentre/ops-vocw-signup | True | https://github.com/executivecentre/ops-vocw-signup |\n",
      "| poc-api-specification | executivecentre/poc-api-specification | True | https://github.com/executivecentre/poc-api-specification |\n",
      "| sales-lead | executivecentre/sales-lead | True | https://github.com/executivecentre/sales-lead |\n",
      "| salesforce-eventretrofitter | executivecentre/salesforce-eventretrofitter | True | https://github.com/executivecentre/salesforce-eventretrofitter |\n",
      "| salesforce-marketing-cms | executivecentre/salesforce-marketing-cms | True | https://github.com/executivecentre/salesforce-marketing-cms |\n",
      "| service-template | executivecentre/service-template | True | https://github.com/executivecentre/service-template |\n",
      "| sf-salesforce | executivecentre/sf-salesforce | True | https://github.com/executivecentre/sf-salesforce |\n",
      "| smart-service-door | executivecentre/smart-service-door | True | https://github.com/executivecentre/smart-service-door |\n",
      "| splendor | executivecentre/splendor | True | https://github.com/executivecentre/splendor |\n",
      "| stripe-demo | executivecentre/stripe-demo | True | https://github.com/executivecentre/stripe-demo |\n",
      "| tec-budget-uploader | executivecentre/tec-budget-uploader | True | https://github.com/executivecentre/tec-budget-uploader |\n",
      "| tec-bulk-unit-price-update | executivecentre/tec-bulk-unit-price-update | True | https://github.com/executivecentre/tec-bulk-unit-price-update |\n",
      "| tec-centre | executivecentre/tec-centre | True | https://github.com/executivecentre/tec-centre |\n",
      "| tec-dbt | executivecentre/tec-dbt | True | https://github.com/executivecentre/tec-dbt |\n",
      "| tec-mcp-host | executivecentre/tec-mcp-host | True | https://github.com/executivecentre/tec-mcp-host |\n",
      "| tec-member | executivecentre/tec-member | True | https://github.com/executivecentre/tec-member |\n",
      "| tectac-coworking | executivecentre/tectac-coworking | True | https://github.com/executivecentre/tectac-coworking |\n",
      "| tectac-coworking-web | executivecentre/tectac-coworking-web | True | https://github.com/executivecentre/tectac-coworking-web |\n",
      "| tectac-single-spa | executivecentre/tectac-single-spa | True | https://github.com/executivecentre/tectac-single-spa |\n",
      "| terraform-project | executivecentre/terraform-project | True | https://github.com/executivecentre/terraform-project |\n",
      "| test-chat | executivecentre/test-chat | True | https://github.com/executivecentre/test-chat |\n",
      "| vocw-commission | executivecentre/vocw-commission | True | https://github.com/executivecentre/vocw-commission |\n",
      "| vocw-coworking-booking | executivecentre/vocw-coworking-booking | True | https://github.com/executivecentre/vocw-coworking-booking |\n",
      "| vocw-coworking-entitlement | executivecentre/vocw-coworking-entitlement | True | https://github.com/executivecentre/vocw-coworking-entitlement |\n",
      "| vocw-coworking-visit | executivecentre/vocw-coworking-visit | True | https://github.com/executivecentre/vocw-coworking-visit |\n",
      "| vocw-dayoffice-booking | executivecentre/vocw-dayoffice-booking | True | https://github.com/executivecentre/vocw-dayoffice-booking |\n",
      "| vocw-revenue | executivecentre/vocw-revenue | True | https://github.com/executivecentre/vocw-revenue |\n",
      "| vocw-transaction | executivecentre/vocw-transaction | True | https://github.com/executivecentre/vocw-transaction |\n",
      "| CourseSourcePlatform | FindingPartner/CourseSourcePlatform | True | https://github.com/FindingPartner/CourseSourcePlatform |\n",
      "| FindingTeammate | FindingPartner/FindingTeammate | True | https://github.com/FindingPartner/FindingTeammate |\n",
      "| FindingTeammate_app | FindingPartner/FindingTeammate_app | True | https://github.com/FindingPartner/FindingTeammate_app |\n",
      "| FindProgrammar | FindingPartner/FindProgrammar | True | https://github.com/FindingPartner/FindProgrammar |\n",
      "| FindProgrammar_app | FindingPartner/FindProgrammar_app | True | https://github.com/FindingPartner/FindProgrammar_app |\n",
      "| GithubVisual_d3 | FindingPartner/GithubVisual_d3 | True | https://github.com/FindingPartner/GithubVisual_d3 |\n",
      "| HiTutor_web | FindingPartner/HiTutor_web | True | https://github.com/FindingPartner/HiTutor_web |\n",
      "| metahkg_app | FindingPartner/metahkg_app | False | https://github.com/FindingPartner/metahkg_app |\n",
      "| metahkg_app_server | FindingPartner/metahkg_app_server | False | https://github.com/FindingPartner/metahkg_app_server |\n",
      "| nft_game_web | FindingPartner/nft_game_web | True | https://github.com/FindingPartner/nft_game_web |\n",
      "| reddit-clone-expo_backup | FindingPartner/reddit-clone-expo_backup | True | https://github.com/FindingPartner/reddit-clone-expo_backup |\n",
      "| reddit-clone_backup | FindingPartner/reddit-clone_backup | True | https://github.com/FindingPartner/reddit-clone_backup |\n",
      "| reddit-clone_server_backup | FindingPartner/reddit-clone_server_backup | True | https://github.com/FindingPartner/reddit-clone_server_backup |\n",
      "| to_be_removed | FindingPartner/to_be_removed | False | https://github.com/FindingPartner/to_be_removed |\n",
      "| Forma | heiheihang/Forma | True | https://github.com/heiheihang/Forma |\n",
      "| COMP5331_Project | henrychh927/COMP5331_Project | True | https://github.com/henrychh927/COMP5331_Project |\n",
      "| RMBI_Capstone | henrychh927/RMBI_Capstone | True | https://github.com/henrychh927/RMBI_Capstone |\n",
      "| HKUST-LIFE.github.io | HKUST-LIFE/HKUST-LIFE.github.io | False | https://github.com/HKUST-LIFE/HKUST-LIFE.github.io |\n",
      "| aframe | john012343210/aframe | False | https://github.com/john012343210/aframe |\n",
      "| appnameeeee | john012343210/appnameeeee | True | https://github.com/john012343210/appnameeeee |\n",
      "| can-it-be-done-in-react-native_backup | john012343210/can-it-be-done-in-react-native_backup | True | https://github.com/john012343210/can-it-be-done-in-react-native_backup |\n",
      "| DB | john012343210/DB | True | https://github.com/john012343210/DB |\n",
      "| handyjupyter | john012343210/handyjupyter | False | https://github.com/john012343210/handyjupyter |\n",
      "| poetry | john012343210/poetry | False | https://github.com/john012343210/poetry |\n",
      "| react-native-push-notification | john012343210/react-native-push-notification | False | https://github.com/john012343210/react-native-push-notification |\n",
      "| react-native-ussd | john012343210/react-native-ussd | False | https://github.com/john012343210/react-native-ussd |\n",
      "| RMBI_Capstone | john012343210/RMBI_Capstone | True | https://github.com/john012343210/RMBI_Capstone |\n",
      "| Scraper | john012343210/Scraper | False | https://github.com/john012343210/Scraper |\n",
      "| testgit777 | john012343210/testgit777 | True | https://github.com/john012343210/testgit777 |\n",
      "| testHostFirebase | john012343210/testHostFirebase | True | https://github.com/john012343210/testHostFirebase |\n",
      "| UnrealEngine | john012343210/UnrealEngine | True | https://github.com/john012343210/UnrealEngine |\n",
      "| GRANT_WRITE_TO_READ_AFTER_CHANGE_TO_ORGANZIATION | JohnPythonJohnRename/GRANT_WRITE_TO_READ_AFTER_CHANGE_TO_ORGANZIATION | True | https://github.com/JohnPythonJohnRename/GRANT_WRITE_TO_READ_AFTER_CHANGE_TO_ORGANZIATION |\n",
      "| Django-CRM-2 | LoveProgramming-Limited/Django-CRM-2 | False | https://github.com/LoveProgramming-Limited/Django-CRM-2 |\n",
      "| fastrade | LoveTrade/fastrade | False | https://github.com/LoveTrade/fastrade |\n",
      "| .github | ProgramIsFun/.github | False | https://github.com/ProgramIsFun/.github |\n",
      "| EonGraph | ProgramIsFun/EonGraph | True | https://github.com/ProgramIsFun/EonGraph |\n",
      "| EonGraph-Backend | ProgramIsFun/EonGraph-Backend | True | https://github.com/ProgramIsFun/EonGraph-Backend |\n",
      "| EonGraph-BackupHelper | ProgramIsFun/EonGraph-BackupHelper | True | https://github.com/ProgramIsFun/EonGraph-BackupHelper |\n",
      "| EonGraph-DatabaseManager | ProgramIsFun/EonGraph-DatabaseManager | True | https://github.com/ProgramIsFun/EonGraph-DatabaseManager |\n",
      "| EonGraph-Web | ProgramIsFun/EonGraph-Web | False | https://github.com/ProgramIsFun/EonGraph-Web |\n",
      "| fligh1 | ProgramIsFun/fligh1 | True | https://github.com/ProgramIsFun/fligh1 |\n",
      "| fligh1back | ProgramIsFun/fligh1back | True | https://github.com/ProgramIsFun/fligh1back |\n",
      "| fligh1Front | ProgramIsFun/fligh1Front | True | https://github.com/ProgramIsFun/fligh1Front |\n",
      "| github-repos-visualizer | ProgramIsFun/github-repos-visualizer | True | https://github.com/ProgramIsFun/github-repos-visualizer |\n",
      "| Learning-unreal-engine | ProgramIsFun/Learning-unreal-engine | False | https://github.com/ProgramIsFun/Learning-unreal-engine |\n",
      "| ModernTrading | ProgramIsFun/ModernTrading | True | https://github.com/ProgramIsFun/ModernTrading |\n",
      "| ModernTrading2 | ProgramIsFun/ModernTrading2 | True | https://github.com/ProgramIsFun/ModernTrading2 |\n",
      "| openai-assistants-quickstart-advanced | ProgramIsFun/openai-assistants-quickstart-advanced | False | https://github.com/ProgramIsFun/openai-assistants-quickstart-advanced |\n",
      "| Personal-to-do | ProgramIsFun/Personal-to-do | True | https://github.com/ProgramIsFun/Personal-to-do |\n",
      "| ue5-force-graph | ProgramIsFun/ue5-force-graph | False | https://github.com/ProgramIsFun/ue5-force-graph |\n",
      "| ue5-force-graph53 | ProgramIsFun/ue5-force-graph53 | False | https://github.com/ProgramIsFun/ue5-force-graph53 |\n",
      "| ue5-force-graphhhhhhhhh | ProgramIsFun/ue5-force-graphhhhhhhhh | False | https://github.com/ProgramIsFun/ue5-force-graphhhhhhhhh |\n",
      "| ue5-force-graphhhhhhhhh-521 | ProgramIsFun/ue5-force-graphhhhhhhhh-521 | False | https://github.com/ProgramIsFun/ue5-force-graphhhhhhhhh-521 |\n",
      "| admin-portal | Qualifly/admin-portal | True | https://github.com/Qualifly/admin-portal |\n",
      "| backend_repo | Qualifly/backend_repo | True | https://github.com/Qualifly/backend_repo |\n",
      "| demo-repository | Qualifly/demo-repository | True | https://github.com/Qualifly/demo-repository |\n",
      "| devconnector_2_0_backup_orphan | Qualifly/devconnector_2_0_backup_orphan | True | https://github.com/Qualifly/devconnector_2_0_backup_orphan |\n",
      "| DocumentForGPT | Qualifly/DocumentForGPT | True | https://github.com/Qualifly/DocumentForGPT |\n",
      "| empty | Qualifly/empty | True | https://github.com/Qualifly/empty |\n",
      "| QualiFly | Qualifly/QualiFly | True | https://github.com/Qualifly/QualiFly |\n",
      "| tasks_set1 | Qualifly/tasks_set1 | True | https://github.com/Qualifly/tasks_set1 |\n",
      "| tasks_set2 | Qualifly/tasks_set2 | True | https://github.com/Qualifly/tasks_set2 |\n",
      "| web_repo | Qualifly/web_repo | True | https://github.com/Qualifly/web_repo |\n",
      "| QualiFly | QualiFlyHK/QualiFly | True | https://github.com/QualiFlyHK/QualiFly |\n",
      "| QualiFly-Admin | QualiFlyHK/QualiFly-Admin | True | https://github.com/QualiFlyHK/QualiFly-Admin |\n",
      "| Raylen-LIMITED.github.io | Raylen-LIMITED/Raylen-LIMITED.github.io | False | https://github.com/Raylen-LIMITED/Raylen-LIMITED.github.io |\n",
      "| contain | relojustin/contain | True | https://github.com/relojustin/contain |\n",
      "| r2 | relojustin/r2 | True | https://github.com/relojustin/r2 |\n",
      "| FeatureRequest | SlashTutor/FeatureRequest | False | https://github.com/SlashTutor/FeatureRequest |\n",
      "| china_strobank_backend | strobank/china_strobank_backend | True | https://github.com/strobank/china_strobank_backend |\n",
      "| China_strobank_mobile_front | strobank/China_strobank_mobile_front | True | https://github.com/strobank/China_strobank_mobile_front |\n",
      "| core-api | tectac/core-api | True | https://github.com/tectac/core-api |\n",
      "| core-lambda | tectac/core-lambda | True | https://github.com/tectac/core-lambda |\n",
      "| core-project | tectac/core-project | True | https://github.com/tectac/core-project |\n",
      "| core-social-api | tectac/core-social-api | True | https://github.com/tectac/core-social-api |\n",
      "| smart-service-room-wizard-api | tectac/smart-service-room-wizard-api | True | https://github.com/tectac/smart-service-room-wizard-api |\n",
      "| TecTac | tectac/TecTac | True | https://github.com/tectac/TecTac |\n",
      "| f | uni3source/f | True | https://github.com/uni3source/f |\n",
      "| h | uni3source/h | True | https://github.com/uni3source/h |\n",
      "| meta | uni3source/meta | True | https://github.com/uni3source/meta |\n",
      "| metahkg-api | uni3source/metahkg-api | True | https://github.com/uni3source/metahkg-api |\n",
      "| metahkg-links | uni3source/metahkg-links | True | https://github.com/uni3source/metahkg-links |\n",
      "| metahkg-server | uni3source/metahkg-server | True | https://github.com/uni3source/metahkg-server |\n",
      "| metahkg-web | uni3source/metahkg-web | True | https://github.com/uni3source/metahkg-web |\n",
      "| rlp-proxy-rewrite | uni3source/rlp-proxy-rewrite | True | https://github.com/uni3source/rlp-proxy-rewrite |\n",
      "| ac_list | videomak/ac_list | True | https://github.com/videomak/ac_list |\n",
      "| bilili_myself | videomak/bilili_myself | True | https://github.com/videomak/bilili_myself |\n",
      "| MyOwnBaseCrawler | videomak/MyOwnBaseCrawler | True | https://github.com/videomak/MyOwnBaseCrawler |\n",
      "| MyOwnBilibiliCrawler | videomak/MyOwnBilibiliCrawler | True | https://github.com/videomak/MyOwnBilibiliCrawler |\n",
      "| MyOwnDockerFile | videomak/MyOwnDockerFile | True | https://github.com/videomak/MyOwnDockerFile |\n",
      "| MyOwnSourceMapCreator | videomak/MyOwnSourceMapCreator | True | https://github.com/videomak/MyOwnSourceMapCreator |\n",
      "| MyOwnVideoDownloader | videomak/MyOwnVideoDownloader | True | https://github.com/videomak/MyOwnVideoDownloader |\n",
      "| MyOwnVideoUpdator | videomak/MyOwnVideoUpdator | True | https://github.com/videomak/MyOwnVideoUpdator |\n",
      "| MyOwnYouTubeCrawler | videomak/MyOwnYouTubeCrawler | True | https://github.com/videomak/MyOwnYouTubeCrawler |\n",
      "| READ_ME_FIRST | videomak/READ_ME_FIRST | True | https://github.com/videomak/READ_ME_FIRST |\n"
     ]
    }
   ],
   "source": [
    "# a=get_github_repositories()"
   ]
  },
  {
   "cell_type": "markdown",
   "id": "536899f3",
   "metadata": {},
   "source": [
    "#### get_specific_node_with_specific_id"
   ]
  },
  {
   "cell_type": "code",
   "execution_count": null,
   "id": "97c0ec17688dbd33",
   "metadata": {
    "ExecuteTime": {
     "end_time": "2024-12-21T07:36:01.571226Z",
     "start_time": "2024-12-21T07:36:01.489228Z"
    }
   },
   "outputs": [],
   "source": [
    "\n",
    "def get_record_with_specific_id(tx, id):\n",
    "    p(\"get_record_with_specific_id called with id:\", id)\n",
    "    query = f'''\n",
    "\n",
    "    MATCH (n)\n",
    "        WHERE n.user_generate_id_7577777777 = \"{id}\"\n",
    "        RETURN n\n",
    "    '''\n",
    "    result = tx.run(query)\n",
    "    return list(result)\n",
    "\n",
    "# k=session.execute_read(get_record_with_specific_id, id=\"9b6097ab-f834-4789-a542-ced4f9478cc5\")"
   ]
  },
  {
   "cell_type": "code",
   "execution_count": null,
   "id": "dde134abc8af85a7",
   "metadata": {
    "ExecuteTime": {
     "end_time": "2024-12-21T07:36:09.784898Z",
     "start_time": "2024-12-21T07:36:09.779896Z"
    }
   },
   "outputs": [
    {
     "data": {
      "text/plain": [
       "[{'properties': {'user_generate_id_7577777777': '9b6097ab-f834-4789-a542-ced4f9478cc5',\n",
       "   'name': 'projectssss'},\n",
       "  'labels': ['normalNode588888888']}]"
      ]
     },
     "execution_count": 27,
     "metadata": {},
     "output_type": "execute_result"
    }
   ],
   "source": [
    "def get_specific_node_with_specific_id(id):\n",
    "    p(\"get_specific_node_with_specific_id called with id:\", id)\n",
    "    k=session.execute_read(get_record_with_specific_id, id=id)\n",
    "    nodes = []\n",
    "    for record in k:\n",
    "        node = record['n']\n",
    "        node_dict = dict(node)  # properties as dict\n",
    "        label_list = list(node.labels)  # labels as list\n",
    "        # Gather everything into one dict\n",
    "        nodes.append({\n",
    "            \"properties\": node_dict,\n",
    "            \"labels\": label_list\n",
    "        })\n",
    "    return nodes\n",
    "# get_specific_node_with_specific_id(\"9b6097ab-f834-4789-a542-ced4f9478cc5\")"
   ]
  },
  {
   "cell_type": "markdown",
   "id": "80caae54",
   "metadata": {},
   "source": [
    "#### get_node_with_specific_property"
   ]
  },
  {
   "cell_type": "code",
   "execution_count": null,
   "id": "468d319a0049e330",
   "metadata": {
    "ExecuteTime": {
     "end_time": "2024-12-21T07:36:19.610574Z",
     "start_time": "2024-12-21T07:36:19.525575Z"
    }
   },
   "outputs": [],
   "source": [
    "def get_node_with_specific_property(tx, property):\n",
    "    p(\"get_node_with_specific_property called with property:\", property)\n",
    "    query = f'''\n",
    "\n",
    "    MATCH (n)\n",
    "        WHERE n.`{property}` IS NOT NULL\n",
    "        RETURN n\n",
    "    '''\n",
    "    result = tx.run(query)\n",
    "    return list(result)\n",
    "# k=session.execute_read(get_node_with_specific_property, property=\"ue_location_X\")"
   ]
  },
  {
   "cell_type": "code",
   "execution_count": 29,
   "id": "82820a8924cdc3d4",
   "metadata": {
    "ExecuteTime": {
     "end_time": "2024-12-21T07:36:26.574254Z",
     "start_time": "2024-12-21T07:36:26.569255Z"
    }
   },
   "outputs": [],
   "source": [
    "# len(k)"
   ]
  },
  {
   "cell_type": "markdown",
   "id": "d1bc89f1",
   "metadata": {},
   "source": [
    "#### print_number_of_node_and_number_of_connections"
   ]
  },
  {
   "cell_type": "code",
   "execution_count": null,
   "id": "1ac92a5c3accdbe9",
   "metadata": {
    "ExecuteTime": {
     "end_time": "2024-12-22T10:43:38.774519Z",
     "start_time": "2024-12-22T10:43:38.745508Z"
    }
   },
   "outputs": [],
   "source": [
    "def print_number_of_node_and_number_of_connections(session):\n",
    "    p(\"print_number_of_node_and_number_of_connections called\")\n",
    "    # Get total number of node in the database.\n",
    "    def get_number_of_nodes():\n",
    "        result = session.run(\"MATCH (n) RETURN count(n) as total\")\n",
    "        for record in result:\n",
    "            print(record[\"total\"])\n",
    "    get_number_of_nodes()\n",
    "\n",
    "\n",
    "    # Get number of connections.\n",
    "    def get_number_of_connections():\n",
    "        result = session.run(\"MATCH ()-->() RETURN count(*) as total\")\n",
    "        for record in result:\n",
    "            print(record[\"total\"])\n",
    "    get_number_of_connections()"
   ]
  },
  {
   "cell_type": "code",
   "execution_count": 31,
   "id": "9d9c867a",
   "metadata": {},
   "outputs": [],
   "source": [
    "\n",
    "# print_number_of_node_and_number_of_connections(session)"
   ]
  },
  {
   "cell_type": "markdown",
   "id": "cdcacecf",
   "metadata": {},
   "source": [
    "#### get_every_node"
   ]
  },
  {
   "cell_type": "code",
   "execution_count": null,
   "id": "c81d70689d84ff41",
   "metadata": {
    "ExecuteTime": {
     "end_time": "2024-12-22T10:34:15.042550Z",
     "start_time": "2024-12-22T10:34:14.952194Z"
    }
   },
   "outputs": [],
   "source": [
    "def get_every_node(tx):\n",
    "    p(\"get_every_node called\")\n",
    "    return list(tx.run(\n",
    "        '''\n",
    "        MATCH (n) RETURN n\n",
    "\n",
    "        '''\n",
    "    ))\n",
    "# result = session.execute_read(get_every_node)\n",
    "# ppp=result[0]\n",
    "# ppp2=ppp[\"n\"]\n",
    "# type(ppp2)\n",
    "# ppp2.keys()\n",
    "# dict(ppp2)"
   ]
  },
  {
   "cell_type": "code",
   "execution_count": null,
   "id": "446fba01a3badb19",
   "metadata": {
    "ExecuteTime": {
     "end_time": "2024-12-16T11:56:31.364449Z",
     "start_time": "2024-12-16T11:56:31.360051Z"
    }
   },
   "outputs": [
    {
     "data": {
      "text/plain": [
       "<Node element_id='4:b2f3fb18-14bf-40fa-aa71-612bac4dc40e:0' labels=frozenset({'githubRepo76666666666666'}) properties={'repoid': 776567113, 'id77777777': 'c03fd423-53c7-4f58-a6bf-16eb494cedd3', 'name': 'everythingallaccount/migrates-to-Electron'}>"
      ]
     },
     "execution_count": 66,
     "metadata": {},
     "output_type": "execute_result"
    }
   ],
   "source": [
    "# ppp2"
   ]
  },
  {
   "cell_type": "code",
   "execution_count": null,
   "id": "19558d94a8623d47",
   "metadata": {
    "ExecuteTime": {
     "end_time": "2024-12-16T11:56:14.125459Z",
     "start_time": "2024-12-16T11:56:14.120658Z"
    }
   },
   "outputs": [
    {
     "data": {
      "text/plain": [
       "'4:b2f3fb18-14bf-40fa-aa71-612bac4dc40e:0'"
      ]
     },
     "execution_count": 65,
     "metadata": {},
     "output_type": "execute_result"
    }
   ],
   "source": [
    "# ppp2.element_id"
   ]
  },
  {
   "cell_type": "code",
   "execution_count": null,
   "id": "89f0c67a1367f632",
   "metadata": {
    "ExecuteTime": {
     "end_time": "2024-12-20T09:16:24.562299Z",
     "start_time": "2024-12-20T09:16:24.559299Z"
    }
   },
   "outputs": [],
   "source": []
  },
  {
   "cell_type": "markdown",
   "id": "627a23a75ca981f7",
   "metadata": {},
   "source": [
    "#### get_all_nodes__and__their_connections"
   ]
  },
  {
   "cell_type": "code",
   "execution_count": null,
   "id": "b6e88879420087",
   "metadata": {
    "ExecuteTime": {
     "end_time": "2024-12-24T13:42:53.785386Z",
     "start_time": "2024-12-24T13:42:53.779387Z"
    }
   },
   "outputs": [],
   "source": [
    "def get_all_nodes__and__their_connections(session):\n",
    "    p(\"get_all_nodes__and__their_connections called\")\n",
    "    def get_all_node_and_their_connections(session):\n",
    "        result = session.run(\"MATCH (n)-[r]->(m) RETURN n, r, m\")\n",
    "        return list(result)\n",
    "\n",
    "    k= session.execute_read(get_all_node_and_their_connections)\n",
    "    len(k)\n",
    "    k2=k[0]\n",
    "    k2.keys()\n",
    "    nodes=[]\n",
    "    nodesid={}\n",
    "    links=[]\n",
    "    for i in k:\n",
    "        n=i[\"n\"]\n",
    "        m=i[\"m\"]\n",
    "\n",
    "        NID=dict(n)[\"user_generate_id_7577777777\"]\n",
    "        Ninternal_id=n.element_id\n",
    "        MID=dict(m)[\"user_generate_id_7577777777\"]\n",
    "        Minternal_id=m.element_id\n",
    "        if NID not in nodesid:\n",
    "            nodesid[NID]=1\n",
    "            kkkk=dict(n)\n",
    "            # kkkk[\"element_id\"]=n.element_id\n",
    "            nodes.append(kkkk)\n",
    "        if MID not in nodesid:\n",
    "            nodesid[MID]=1\n",
    "            kkkk=dict(m)\n",
    "            # kkkk[\"element_id\"]=m.element_id\n",
    "            nodes.append(kkkk)\n",
    "\n",
    "        links.append({\"source\":\n",
    "\n",
    "                          NID,\n",
    "                      \"target\":\n",
    "                            MID,\n",
    "                      }\n",
    "                        )\n",
    "\n",
    "\n",
    "    p(len(nodes))\n",
    "    p(len(links))\n",
    "\n",
    "    def get_alone_nodes(session):\n",
    "        result = session.run('''\n",
    "        MATCH (n)\n",
    "        WHERE NOT EXISTS ((n)--())\n",
    "        RETURN n\n",
    "        ''')\n",
    "        return list(result)\n",
    "\n",
    "    k=session.execute_read(get_alone_nodes)\n",
    "    for i in k:\n",
    "        n=i[\"n\"]\n",
    "        NID=dict(n)[\"user_generate_id_7577777777\"]\n",
    "        if NID not in nodesid:\n",
    "            nodesid[NID]=1\n",
    "            kkkk=dict(n)\n",
    "            # kkkk[\"element_id\"]=n.element_id\n",
    "            nodes.append(kkkk)\n",
    "\n",
    "    oooo={\"nodes\":nodes, \"links\":links}\n",
    "    len(nodes)\n",
    "    return oooo\n"
   ]
  },
  {
   "cell_type": "code",
   "execution_count": null,
   "id": "58f93ecdb4dc4998",
   "metadata": {
    "ExecuteTime": {
     "end_time": "2024-12-24T13:42:55.027173Z",
     "start_time": "2024-12-24T13:42:54.880673Z"
    }
   },
   "outputs": [],
   "source": [
    "# get_all_nodes__and__their_connections(session)"
   ]
  },
  {
   "cell_type": "code",
   "execution_count": null,
   "id": "db4332743eb41c4",
   "metadata": {},
   "outputs": [],
   "source": [
    "\n",
    "# Get all connections\n",
    "def get_all_connections():\n",
    "    p(\"get_all_connections called\")\n",
    "    result = session.run(\"\"\n",
    "                         \"MATCH ()-[r]->() RETURN r\"\n",
    "                         \"\"\n",
    "                         \"\"\n",
    "                         \"\"\n",
    "                         \"\")\n",
    "    return list(result)\n",
    "# r=get_all_connections()\n",
    "# r1=r[0]\n",
    "# r2=r1[\"r\"]\n",
    "# r2.nodes"
   ]
  },
  {
   "cell_type": "markdown",
   "id": "3c5af6fd",
   "metadata": {},
   "source": [
    "#### _get_constraints"
   ]
  },
  {
   "cell_type": "code",
   "execution_count": 38,
   "id": "00a1829e",
   "metadata": {},
   "outputs": [],
   "source": [
    "def _get_constraints(tx):\n",
    "        p(\"_get_constraints called\")\n",
    "        query = \"SHOW CONSTRAINTS\"\n",
    "        result = tx.run(query)\n",
    "        return [record for record in result]\n",
    "# k=session.execute_read(_get_constraints)"
   ]
  },
  {
   "cell_type": "markdown",
   "id": "15bf7de24de23536",
   "metadata": {},
   "source": [
    "## Editing things."
   ]
  },
  {
   "cell_type": "markdown",
   "id": "5abb72ee",
   "metadata": {},
   "source": [
    "#### update_position_of_all_node"
   ]
  },
  {
   "cell_type": "code",
   "execution_count": null,
   "id": "85fc0a60",
   "metadata": {},
   "outputs": [],
   "source": []
  },
  {
   "cell_type": "code",
   "execution_count": null,
   "id": "db838ec4dd011751",
   "metadata": {
    "ExecuteTime": {
     "end_time": "2024-12-21T04:29:32.792332Z",
     "start_time": "2024-12-21T04:29:32.787830Z"
    }
   },
   "outputs": [],
   "source": [
    "def update_position_of_all_node(session,d,mode):\n",
    "\n",
    "    p(\"update_position_of_all_node called with data:\", d)\n",
    "\n",
    "    output_data = []\n",
    "\n",
    "    for item in d:\n",
    "        # Add a new dictionary to output_data with the flattened structure.\n",
    "        output_data.append({\n",
    "            \"ID\": item[\"ID\"],\n",
    "            \"X\": item[\"unreal_engine_location_728\"][\"X\"],\n",
    "            \"Y\": item[\"unreal_engine_location_728\"][\"Y\"],\n",
    "            \"Z\": item[\"unreal_engine_location_728\"][\"Z\"]\n",
    "        })\n",
    "\n",
    "\n",
    "    def update_nodes(tx, data):\n",
    "        query = \"\"\"\n",
    "\n",
    "        UNWIND $data AS item\n",
    "        MATCH (n {user_generate_id_7577777777: item.ID})\n",
    "        SET n.ue_location_X = item.X,\n",
    "            n.ue_location_Y = item.Y,\n",
    "            n.ue_location_Z = item.Z\n",
    "        RETURN n.ID, n.ue_location_X, n.ue_location_Y, n.ue_location_Z\n",
    "\n",
    "        \"\"\"\n",
    "        result = tx.run(query, data=data)\n",
    "        return list(result)\n",
    "\n",
    "\n",
    "    updated_nodes = session.execute_write(update_nodes, output_data)\n",
    "    return updated_nodes\n",
    "    \n",
    "\n",
    "\n",
    "\n",
    "# d=[\n",
    "#       {\n",
    "#         \"ID\": \"9b6097ab-f834-4789-a542-ced4f9478cc5\",\n",
    "#         \"unreal_engine_location_728\": {\n",
    "#           \"X\": -1056.2984697348495,\n",
    "#           \"Y\": -188.69419245425595,\n",
    "#           \"Z\": 535.1348803507144\n",
    "#         }\n",
    "#       }\n",
    "#     ]\n",
    "# a=update_position_of_all_node(session,d)"
   ]
  },
  {
   "cell_type": "markdown",
   "id": "e50aab94",
   "metadata": {},
   "source": [
    "#### update_color_of_all_nodes\n",
    "\n"
   ]
  },
  {
   "cell_type": "code",
   "execution_count": 2,
   "id": "c3df1ecc",
   "metadata": {},
   "outputs": [],
   "source": [
    "def update_color_of_all_nodes(session, color):\n",
    "    # Implement the logic to update the color of all nodes in the database\n",
    "    query = '''\n",
    "    MATCH (n)\n",
    "    SET n.color = $color\n",
    "    RETURN n\n",
    "    '''\n",
    "    result = session.run(query, color=color)\n",
    "    return [record['n'] for record in result]"
   ]
  },
  {
   "cell_type": "code",
   "execution_count": null,
   "id": "e28c4cc4",
   "metadata": {},
   "outputs": [
    {
     "ename": "",
     "evalue": "",
     "output_type": "error",
     "traceback": [
      "\u001b[1;31mThe Kernel crashed while executing code in the current cell or a previous cell. \n",
      "\u001b[1;31mPlease review the code in the cell(s) to identify a possible cause of the failure. \n",
      "\u001b[1;31mClick <a href='https://aka.ms/vscodeJupyterKernelCrash'>here</a> for more info. \n",
      "\u001b[1;31mView Jupyter <a href='command:jupyter.viewOutput'>log</a> for further details."
     ]
    }
   ],
   "source": [
    "# a=update_color_of_all_nodes(session, \"#FFFFFF\")\n",
    "\n",
    "# a"
   ]
  },
  {
   "cell_type": "markdown",
   "id": "58d2db5e3b5f952c",
   "metadata": {},
   "source": [
    "## Creating things."
   ]
  },
  {
   "cell_type": "code",
   "execution_count": null,
   "id": "41a41651",
   "metadata": {},
   "outputs": [],
   "source": [
    "\n",
    "def _create_constraint(tx, label, property):\n",
    "    p(\"_create_constraint called with label:\", label, \"and property:\", property)\n",
    "    query = f\"CREATE CONSTRAINT FOR  (n:{label}) REQUIRE  n.{property} IS UNIQUE\"\n",
    "    tx.run(query)\n",
    "# session.execute_write(_create_constraint, \"normalNode588888888\", \"user_generate_id_7577777777\")\n",
    "\n"
   ]
  },
  {
   "cell_type": "code",
   "execution_count": null,
   "id": "74b2eb2104711aef",
   "metadata": {
    "ExecuteTime": {
     "end_time": "2024-12-22T11:03:33.973605Z",
     "start_time": "2024-12-22T11:03:33.970370Z"
    }
   },
   "outputs": [],
   "source": [
    "def create_node_tx(tx, name, id8):\n",
    "    p(\"create_node_tx called with name:\", name, \"and id8:\", id8)\n",
    "    query = (\"CREATE (n:normalNode588888888 {\"\n",
    "             \"name: $name, \"\n",
    "             \"user_generate_id_7577777777:$id8 }) \"\n",
    "             \"RETURN n.user_generate_id_7577777777 AS node_id\")\n",
    "    result = tx.run(query, name=name, id8=id8)\n",
    "    record = result.single()\n",
    "    return record[\"node_id\"]"
   ]
  },
  {
   "cell_type": "markdown",
   "id": "0f3b4e0d",
   "metadata": {},
   "source": [
    "#### create_note_with_generate_id"
   ]
  },
  {
   "cell_type": "code",
   "execution_count": null,
   "id": "e786e113cada3703",
   "metadata": {
    "ExecuteTime": {
     "end_time": "2024-12-24T13:27:31.295767Z",
     "start_time": "2024-12-24T13:27:31.291265Z"
    }
   },
   "outputs": [],
   "source": [
    "def create_node_with_generate_id(session, name):\n",
    "    p(\"create_node_with_generate_id called with name:\", name)\n",
    "    node_id = session.execute_write(create_node_tx, name, str(uuid.uuid4()))\n",
    "    return node_id"
   ]
  },
  {
   "cell_type": "code",
   "execution_count": null,
   "id": "279c9883",
   "metadata": {},
   "outputs": [],
   "source": [
    "def create_node_tx_with_position(tx, name, id8, x, y, z):\n",
    "    p(\"create_node_tx_with_position called with name:\", name, \"id8:\", id8, \"x:\", x, \"y:\", y, \"z:\", z)\n",
    "    query = (\"CREATE (n:normalNode588888888 {\"\n",
    "             \"name: $name, \"\n",
    "             \"user_generate_id_7577777777: $id8, \"\n",
    "             \"ue_location_X: $x, \"\n",
    "             \"ue_location_Y: $y, \"\n",
    "             \"ue_location_Z: $z}) \"\n",
    "             \"RETURN n.user_generate_id_7577777777 AS node_id\")\n",
    "    result = tx.run(query, name=name, id8=id8, x=x, y=y, z=z)\n",
    "    record = result.single()\n",
    "    return record[\"node_id\"]"
   ]
  },
  {
   "cell_type": "markdown",
   "id": "64cf2137",
   "metadata": {},
   "source": [
    "#### create_note_with_provided_position_with_generate_id"
   ]
  },
  {
   "cell_type": "code",
   "execution_count": null,
   "id": "d47ff2fc",
   "metadata": {},
   "outputs": [],
   "source": [
    "def create_node_with_generate_id_and_position(session, name, x, y, z):\n",
    "    p(\"create_node_with_generate_id_and_position called with name:\", name, \"x:\", x, \"y:\", y, \"z:\", z)\n",
    "    node_id = session.execute_write(create_node_tx_with_position, name, str(uuid.uuid4()), x, y, z)\n",
    "    return node_id"
   ]
  },
  {
   "cell_type": "code",
   "execution_count": null,
   "id": "d0da748c5cf8aeb4",
   "metadata": {
    "ExecuteTime": {
     "end_time": "2024-12-24T05:03:56.497284Z",
     "start_time": "2024-12-24T05:03:56.362713Z"
    }
   },
   "outputs": [],
   "source": [
    "already_exists_id=\"9b6097ab-f834-4789-a542-ced4f9478cc5\"\n",
    "def testing_constraint(session):\n",
    "    p(\"testing_constraint called\")\n",
    "    node_id = session.execute_write(create_node_tx, \"1\", already_exists_id)\n",
    "    return node_id\n",
    "# k=testing_constraint(session)\n"
   ]
  },
  {
   "cell_type": "code",
   "execution_count": null,
   "id": "2a3c37fa5131f032",
   "metadata": {
    "ExecuteTime": {
     "end_time": "2024-12-24T13:27:57.410780Z",
     "start_time": "2024-12-24T13:27:57.407781Z"
    }
   },
   "outputs": [],
   "source": [
    "# testing_name_777=\"to_be_deleted\"\n"
   ]
  },
  {
   "cell_type": "code",
   "execution_count": null,
   "id": "38eb98bfc1fed56c",
   "metadata": {
    "ExecuteTime": {
     "end_time": "2024-12-24T13:28:01.499837Z",
     "start_time": "2024-12-24T13:28:01.324412Z"
    }
   },
   "outputs": [],
   "source": [
    "# node_id = create_node_with_generate_id(session, testing_name_777)\n",
    "# "
   ]
  },
  {
   "cell_type": "code",
   "execution_count": null,
   "id": "f9c264e4446d39e3",
   "metadata": {
    "ExecuteTime": {
     "end_time": "2024-12-24T10:55:24.784635Z",
     "start_time": "2024-12-24T10:55:24.779636Z"
    }
   },
   "outputs": [
    {
     "data": {
      "text/plain": [
       "'bf4209a5-8723-4476-a0ae-a9a99fed1c8e'"
      ]
     },
     "execution_count": 65,
     "metadata": {},
     "output_type": "execute_result"
    }
   ],
   "source": [
    "# testing_id_777"
   ]
  },
  {
   "cell_type": "code",
   "execution_count": null,
   "id": "4e70274e578e0cd0",
   "metadata": {
    "ExecuteTime": {
     "end_time": "2024-12-24T13:28:03.509913Z",
     "start_time": "2024-12-24T13:28:03.504913Z"
    }
   },
   "outputs": [
    {
     "data": {
      "text/plain": [
       "'75ffeb58-ee1a-4df1-961e-a4b8a5bb7567'"
      ]
     },
     "execution_count": 72,
     "metadata": {},
     "output_type": "execute_result"
    }
   ],
   "source": [
    "# node_id"
   ]
  },
  {
   "cell_type": "code",
   "execution_count": null,
   "id": "3bfdac6047aaec87",
   "metadata": {
    "ExecuteTime": {
     "end_time": "2024-12-24T13:28:11.941313Z",
     "start_time": "2024-12-24T13:28:11.903315Z"
    }
   },
   "outputs": [
    {
     "data": {
      "text/plain": [
       "1"
      ]
     },
     "execution_count": 75,
     "metadata": {},
     "output_type": "execute_result"
    }
   ],
   "source": [
    "# delete_note_with_specific_id(session, node_id)"
   ]
  },
  {
   "cell_type": "code",
   "execution_count": 29,
   "id": "eaf7fb952170837a",
   "metadata": {
    "ExecuteTime": {
     "end_time": "2024-12-22T10:40:53.506463Z",
     "start_time": "2024-12-22T10:40:53.503297Z"
    }
   },
   "outputs": [],
   "source": []
  },
  {
   "cell_type": "code",
   "execution_count": null,
   "id": "6a5d85f2ef948664",
   "metadata": {
    "ExecuteTime": {
     "end_time": "2024-12-14T10:32:22.905588Z",
     "start_time": "2024-12-14T10:32:22.900607Z"
    }
   },
   "outputs": [],
   "source": [
    "\n",
    "def create_example_integrates(tx, name):\n",
    "    p(\"create_example_integrates called with name:\", name)\n",
    "    def a1():\n",
    "\n",
    "        # https://neo4j.com/docs/api/python-driver/current/api.html#neo4j.Session.execute_write\n",
    "        def create_node_tx(tx, name):\n",
    "            query = (\"CREATE (n:NodeExample {\"\n",
    "                     \"name: $name, \"\n",
    "                     \"id: randomUUID()}) \"\n",
    "                     \"RETURN n.id AS node_id\")\n",
    "            result = tx.run(query, name=name)\n",
    "            record = result.single()\n",
    "            return record[\"node_id\"]\n",
    "        node_id = session.execute_write(create_node_tx, \"Bob\")\n",
    "\n",
    "\n",
    "    def a2():\n",
    "        # https://neo4j.com/docs/api/python-driver/current/api.html#auto-commit-transactions\n",
    "        def create_person(driver, name):\n",
    "            # default_access_mode defaults to WRITE_ACCESS\n",
    "            with driver.session(database=\"neo4j\") as session:\n",
    "                query = (\"CREATE (n:NodeExample {name: $name, id: randomUUID()}) \"\n",
    "                         \"RETURN n.id AS node_id\")\n",
    "                result = session.run(query, name=name)\n",
    "                record = result.single()\n",
    "                return record[\"node_id\"]\n",
    "\n",
    "    def a3():\n",
    "        def create_and_return_node(tx, node):\n",
    "            query = (\n",
    "                \"CREATE (n:Character \"\n",
    "                \"{\"\n",
    "                \"id: $id, \"\n",
    "                \"group: $group, \"\n",
    "                \"indexColor: $indexColor, \"\n",
    "                \"bckgDimensions: $bckgDimensions, \"\n",
    "                \"index: $index\"\n",
    "                \"}\"\n",
    "                \")\"\n",
    "                \"RETURN n\"\n",
    "            )\n",
    "            result = tx.run(query,\n",
    "                            id=node[\"id\"],\n",
    "                            group=node[\"group\"],\n",
    "                            indexColor=node[\"__indexColor\"],\n",
    "                            bckgDimensions=node[\"__bckgDimensions\"],\n",
    "                            index=node[\"index\"])\n",
    "            return result.single()[0]  # Return the created node\n",
    "\n",
    "\n",
    "        node = {\n",
    "            \"id\": \"Cosette\",\n",
    "            \"group\": 5,\n",
    "            \"__indexColor\": \"#5003bc\",\n",
    "            \"__bckgDimensions\": [73.80274419464577, 24.2995279120152],\n",
    "            \"index\": 26\n",
    "        }\n",
    "\n",
    "        node_id = session.execute_write(create_and_return_node, node)\n",
    "\n",
    "    def a4():\n",
    "        employee_threshold = 10\n",
    "\n",
    "\n",
    "        def example():\n",
    "            for i in range(100):\n",
    "                name = f\"Thor{i}\"\n",
    "                org_id = session.execute_write(employ_person_tx, name)\n",
    "                print(f\"User {name} added to organization {org_id}\")\n",
    "\n",
    "\n",
    "        def employ_person_tx(tx, name):\n",
    "            # Create new Person node with given name, if not exists already\n",
    "            result = tx.run(\"\"\"\n",
    "                MERGE (p:Person {name: $name})\n",
    "                RETURN p.name AS name\n",
    "                \"\"\", name=name\n",
    "                            )\n",
    "\n",
    "            # Obtain most recent organization ID and the number of people linked to it\n",
    "            result = tx.run(\"\"\"\n",
    "                MATCH (o:Organization)\n",
    "                RETURN o.id AS id, COUNT{(p:Person)-[r:WORKS_FOR]->(o)} AS employees_n\n",
    "                ORDER BY o.created_date DESC\n",
    "                LIMIT 1\n",
    "            \"\"\")\n",
    "            org = result.single()\n",
    "\n",
    "            if org is not None and org[\"employees_n\"] == 0:\n",
    "                print(\"Most recent organization is empty.\")\n",
    "\n",
    "                raise Exception(\"Most recent organization is empty.\")\n",
    "                # Transaction will roll back -> not even Person is created!\n",
    "            # If org does not have too many employees, add this Person to that\n",
    "            if org is not None and org.get(\"employees_n\") < employee_threshold:\n",
    "                result = tx.run(\"\"\"\n",
    "                    MATCH (o:Organization {id: $org_id})\n",
    "                    MATCH (p:Person {name: $name})\n",
    "                    MERGE (p)-[r:WORKS_FOR]->(o)\n",
    "                    RETURN $org_id AS id\n",
    "                    \"\"\", org_id=org[\"id\"], name=name\n",
    "                                )\n",
    "                print(f\"Added {name} to existing organization {org['id']}\")\n",
    "\n",
    "            # Otherwise, create a new Organization and link Person to it\n",
    "            else:\n",
    "                result = tx.run(\"\"\"\n",
    "                    MATCH (p:Person {name: $name})\n",
    "                    CREATE (o:Organization {id: randomuuid(), created_date: datetime()})\n",
    "                    MERGE (p)-[r:WORKS_FOR]->(o)\n",
    "                    RETURN o.id AS id\n",
    "                    \"\"\", name=name\n",
    "                                )\n",
    "                print(f\"Created new organization and added {name} to it\")\n",
    "\n",
    "            # Return the Organization ID to which the new Person ends up in\n",
    "            return result.single()[\"id\"]\n",
    "\n",
    "\n"
   ]
  },
  {
   "cell_type": "markdown",
   "id": "cdb756c34623c3a0",
   "metadata": {},
   "source": [
    "## Removing things"
   ]
  },
  {
   "cell_type": "markdown",
   "id": "be99d884",
   "metadata": {},
   "source": [
    "#### remove_all"
   ]
  },
  {
   "cell_type": "code",
   "execution_count": null,
   "id": "87ce56682cbd2bf6",
   "metadata": {
    "ExecuteTime": {
     "end_time": "2024-12-20T09:12:02.477751Z",
     "start_time": "2024-12-20T09:12:02.202075Z"
    }
   },
   "outputs": [],
   "source": [
    "\n",
    "def remove_all():\n",
    "    p(\"remove_all called\")\n",
    "    session.run(\"MATCH (n) DETACH DELETE n\")\n",
    "\n",
    "# remove_all()\n"
   ]
  },
  {
   "cell_type": "markdown",
   "id": "987467e5",
   "metadata": {},
   "source": [
    "#### delete_note_with_specific_id\n"
   ]
  },
  {
   "cell_type": "code",
   "execution_count": null,
   "id": "cbc0d992b9f5320e",
   "metadata": {
    "ExecuteTime": {
     "end_time": "2024-12-24T10:56:32.572327Z",
     "start_time": "2024-12-24T10:56:32.568357Z"
    }
   },
   "outputs": [],
   "source": [
    "def delete_note_with_specific_id(tx, id):\n",
    "    p(\"delete_note_with_specific_id called with id:\", id)\n",
    "    # Query that matches any node with the specific ID, deletes it, and counts the deleted nodes.\n",
    "    query = f'''\n",
    "    MATCH (n)\n",
    "    WHERE n.user_generate_id_7577777777 = \"{id}\"\n",
    "    DETACH DELETE n\n",
    "    RETURN count(n) as deletedCount\n",
    "    '''\n",
    "    result = tx.run(query)\n",
    "    return result.single()[0]  # returns the count of deleted nodes"
   ]
  },
  {
   "cell_type": "markdown",
   "id": "32a88892",
   "metadata": {},
   "source": [
    "#### delete_note_with_specific_idand_label"
   ]
  },
  {
   "cell_type": "code",
   "execution_count": null,
   "id": "4447220bc30a0280",
   "metadata": {
    "ExecuteTime": {
     "end_time": "2024-12-22T10:42:37.027278Z",
     "start_time": "2024-12-22T10:42:37.023588Z"
    }
   },
   "outputs": [],
   "source": [
    "\n",
    "def delete_note_with_specific_idand_label(tx, label, id):\n",
    "    p(\"delete_note_with_specific_idand_label called with label:\", label, \"and id:\", id)\n",
    "    # Query that matches node with specific label and ID, deletes it, and counts deleted nodes.\n",
    "    query = f'''\n",
    "    MATCH (n:{label})\n",
    "    WHERE n.user_generate_id_7577777777 = \"{id}\"\n",
    "    DETACH DELETE n\n",
    "    RETURN count(n) as deletedCount\n",
    "    '''\n",
    "    result = tx.run(query)\n",
    "    return result.single()[0]  # returns the count of deleted nodes"
   ]
  },
  {
   "cell_type": "code",
   "execution_count": null,
   "id": "59527642bd62251",
   "metadata": {
    "ExecuteTime": {
     "end_time": "2024-12-22T10:42:37.386253Z",
     "start_time": "2024-12-22T10:42:37.375426Z"
    }
   },
   "outputs": [],
   "source": [
    "# k=delete_note_with_specific_idand_label(session, \"NodeExample\", \"9b6097ab-f834-4789-a542-ced4f9478cc5\")"
   ]
  },
  {
   "cell_type": "code",
   "execution_count": null,
   "id": "8fc32c102bebb412",
   "metadata": {
    "ExecuteTime": {
     "end_time": "2024-12-22T10:42:37.625910Z",
     "start_time": "2024-12-22T10:42:37.620942Z"
    }
   },
   "outputs": [
    {
     "data": {
      "text/plain": [
       "0"
      ]
     },
     "execution_count": 36,
     "metadata": {},
     "output_type": "execute_result"
    }
   ],
   "source": [
    "# k"
   ]
  }
 ],
 "metadata": {
  "kernelspec": {
   "display_name": ".venv",
   "language": "python",
   "name": "python3"
  },
  "language_info": {
   "codemirror_mode": {
    "name": "ipython",
    "version": 3
   },
   "file_extension": ".py",
   "mimetype": "text/x-python",
   "name": "python",
   "nbconvert_exporter": "python",
   "pygments_lexer": "ipython3",
   "version": "3.13.3"
  }
 },
 "nbformat": 4,
 "nbformat_minor": 5
}
